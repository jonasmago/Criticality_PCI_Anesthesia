{
 "cells": [
  {
   "cell_type": "code",
   "execution_count": 1,
   "metadata": {},
   "outputs": [],
   "source": [
    "from scipy.signal import hilbert\n",
    "from scipy.signal import welch\n",
    "from scipy import signal\n",
    "#import METHODS_chaos\n",
    "import pandas as pd\n",
    "from mne.time_frequency import psd_array_multitaper, psd_array_welch\n",
    "from fooof import FOOOF\n",
    "import numpy as np\n",
    "import argparse\n",
    "import mne.io\n",
    "import mne\n",
    "import os\n",
    "import multiprocessing as mp\n",
    "from scipy.io import loadmat\n",
    "from scipy.io import savemat\n",
    "\n",
    "import glob"
   ]
  },
  {
   "cell_type": "code",
   "execution_count": 2,
   "metadata": {},
   "outputs": [
    {
     "name": "stdout",
     "output_type": "stream",
     "text": [
      "Analyzing Synchrony of data/input/10s/sub0-day1-jhana-epo.fif\n",
      "Reading /Users/jonasmago/PhD_code_data/github/Criticality_PCI_Anesthesia/data/input/10s/sub0-day1-jhana-epo.fif ...\n",
      "    Found the data of interest:\n",
      "        t =       0.00 ...    9996.09 ms\n",
      "        0 CTF compensation matrices available\n",
      "Not setting metadata\n",
      "100 matching events found\n",
      "No baseline correction applied\n",
      "0 projection items activated\n",
      "Setting channel interpolation method to {'eeg': 'spline'}.\n",
      "Interpolating bad channels.\n",
      "    Automatic origin fit: head of radius 95.7 mm\n",
      "Computing interpolation matrix from 30 sensor positions\n",
      "Interpolating 2 sensors\n",
      "NOTE: pick_types() is a legacy function. New code should use inst.pick(...).\n"
     ]
    },
    {
     "name": "stderr",
     "output_type": "stream",
     "text": [
      "/var/folders/bq/hl737msd54q59fzf7spf0r7h0000gn/T/ipykernel_56570/3636986037.py:36: FutureWarning: The current default of copy=False will change to copy=True in 1.7. Set the value of copy explicitly to avoid this warning\n",
      "  epochs = epochs_mne.get_data()[:,:32,:]\n"
     ]
    },
    {
     "name": "stdout",
     "output_type": "stream",
     "text": [
      "Analyzing Synchrony of data/input/10s/sub0-day1-mindfulness-epo.fif\n",
      "Reading /Users/jonasmago/PhD_code_data/github/Criticality_PCI_Anesthesia/data/input/10s/sub0-day1-mindfulness-epo.fif ...\n",
      "    Found the data of interest:\n",
      "        t =       0.00 ...    9996.09 ms\n",
      "        0 CTF compensation matrices available\n",
      "Not setting metadata\n",
      "120 matching events found\n",
      "No baseline correction applied\n",
      "0 projection items activated\n",
      "Setting channel interpolation method to {'eeg': 'spline'}.\n",
      "NOTE: pick_types() is a legacy function. New code should use inst.pick(...).\n"
     ]
    },
    {
     "name": "stderr",
     "output_type": "stream",
     "text": [
      "/var/folders/bq/hl737msd54q59fzf7spf0r7h0000gn/T/ipykernel_56570/3636986037.py:33: RuntimeWarning: No bad channels to interpolate. Doing nothing...\n",
      "  epochs_mne.interpolate_bads(reset_bads=True)\n",
      "/var/folders/bq/hl737msd54q59fzf7spf0r7h0000gn/T/ipykernel_56570/3636986037.py:36: FutureWarning: The current default of copy=False will change to copy=True in 1.7. Set the value of copy explicitly to avoid this warning\n",
      "  epochs = epochs_mne.get_data()[:,:32,:]\n"
     ]
    },
    {
     "name": "stdout",
     "output_type": "stream",
     "text": [
      "Model fitting was unsuccessful.\n"
     ]
    }
   ],
   "source": [
    "out_dir = 'data/output/Slope/'\n",
    "in_dir = 'data/input/10s/'\n",
    "lfreq = 1\n",
    "hfreq = 40\n",
    "# output\n",
    "Slope = []\n",
    "Slope_space = []\n",
    "sub_all = []\n",
    "day_all = []   \n",
    "condition_all = []\n",
    "\n",
    "# make output directory\n",
    "if not os.path.exists(out_dir):\n",
    "    os.makedirs(out_dir)\n",
    "\n",
    "# load patient info and conditions\n",
    "paths = glob.glob(f'{in_dir}*.fif')    \n",
    "paths.sort()\n",
    "paths = paths[:2]\n",
    "\n",
    "#loop over all conditions and particiants\n",
    "for i, path in enumerate(paths):\n",
    "    sub = os.path.basename(path)[:4]\n",
    "    day = os.path.basename(path)[5:9]\n",
    "    condition = os.path.basename(path)[10:-8]\n",
    "    print(f\"Analyzing Synchrony of {path}\");\n",
    "\n",
    "    #################################\n",
    "    #          LOAD  DATA          #\n",
    "    #################################\n",
    "\n",
    "    epochs_mne = mne.read_epochs(path, preload=True)\n",
    "    epochs_mne.interpolate_bads(reset_bads=True)\n",
    "    epochs_mne.pick_types(eeg=True, meg=False, stim=False, eog=False, ecg=False, emg=False, misc=False, exclude='bads')\n",
    "\n",
    "    epochs = epochs_mne.get_data()[:,:32,:]\n",
    "    fs = 256 #check this\n",
    "\n",
    "\n",
    "    # if data is too long only use the first 3 min of data\n",
    "    nr_trials = min([len(epochs),30])\n",
    "    nr_channels =  epochs.shape[1]\n",
    "\n",
    "    # search individual lowpass frequency\n",
    "    fm = FOOOF()\n",
    "    # Set the frequency range to fit the model\n",
    "    freq_range = [lfreq, hfreq]\n",
    "    data_con = np.concatenate(epochs,axis = 1)\n",
    "    # get psd of channels\n",
    "    freqs, psds = signal.welch(data_con,fs,nperseg=5*1024)\n",
    "\n",
    "    # Get average Slope\n",
    "    psds_mean =  np.mean(psds,axis = 0)\n",
    "    fm.fit(freqs, psds_mean, freq_range)\n",
    "    slope_id = -fm.aperiodic_params_[1]\n",
    "    Slope.append(slope_id)\n",
    "\n",
    "    Slope_space_id = []\n",
    "    # Get Space-resolved Slope\n",
    "    for ch in range(len(psds)):\n",
    "        fm.fit(freqs, psds[ch,:], freq_range)\n",
    "        slope_id = -fm.aperiodic_params_[1]\n",
    "        Slope_space_id.append(slope_id)\n",
    "\n",
    "    Slope_space.append(Slope_space_id)\n",
    "\n",
    "    sub_all.append(sub)\n",
    "    day_all.append(day)\n",
    "    condition_all.append(condition)\n",
    "\n",
    "    # save part\n",
    "    output_df = {'sub':sub_all, 'day': day_all,'condition':condition_all,'Slope':Slope}\n",
    "    output_df = pd.DataFrame(output_df)\n",
    "    output_df.to_csv(f'{out_dir}/Slope.csv', index=False, sep=',')\n",
    "\n",
    "    # save part\n",
    "    output_df_space = {'sub':sub_all, 'day': day_all,'condition':condition_all}\n",
    "    output_df = pd.concat((pd.DataFrame(output_df_space), pd.DataFrame(Slope_space).reset_index(drop=True)), axis = 1)\n",
    "    output_df.to_csv(f'{out_dir}/Slope_space.csv', index=False, sep=',')\n"
   ]
  },
  {
   "cell_type": "code",
   "execution_count": null,
   "metadata": {},
   "outputs": [],
   "source": []
  }
 ],
 "metadata": {
  "kernelspec": {
   "display_name": "venv",
   "language": "python",
   "name": "python3"
  },
  "language_info": {
   "codemirror_mode": {
    "name": "ipython",
    "version": 3
   },
   "file_extension": ".py",
   "mimetype": "text/x-python",
   "name": "python",
   "nbconvert_exporter": "python",
   "pygments_lexer": "ipython3",
   "version": "3.8.8"
  }
 },
 "nbformat": 4,
 "nbformat_minor": 2
}

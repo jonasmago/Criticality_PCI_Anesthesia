{
 "cells": [
  {
   "cell_type": "code",
   "execution_count": 2,
   "metadata": {},
   "outputs": [],
   "source": [
    "from mne.time_frequency import psd_array_multitaper, psd_array_welch\n",
    "from scipy.signal import hilbert\n",
    "from scipy.signal import welch\n",
    "import multiprocessing as mp\n",
    "from scipy.io import loadmat\n",
    "from scipy.io import savemat\n",
    "from scipy import signal\n",
    "from fooof import FOOOF\n",
    "import edgeofpy as eop\n",
    "from scipy import stats\n",
    "import pandas as pd\n",
    "import numpy as np\n",
    "import argparse\n",
    "import pickle\n",
    "import mne.io\n",
    "import mne\n",
    "import os\n",
    "import glob\n"
   ]
  },
  {
   "cell_type": "code",
   "execution_count": 3,
   "metadata": {},
   "outputs": [
    {
     "name": "stdout",
     "output_type": "stream",
     "text": [
      "Analyzing Avlanches of data/input/continuous/sub0-day1-jhana-raw.fif\n",
      "Opening raw data file data/input/continuous/sub0-day1-jhana-raw.fif...\n",
      "    Range : 512 ... 305964 =      2.000 ...  1195.172 secs\n",
      "Ready.\n",
      "Reading 0 ... 305452  =      0.000 ...  1193.172 secs...\n",
      "Setting channel interpolation method to {'eeg': 'spline'}.\n",
      "Interpolating bad channels.\n",
      "    Automatic origin fit: head of radius 95.7 mm\n",
      "Computing interpolation matrix from 30 sensor positions\n",
      "Interpolating 2 sensors\n",
      "NOTE: pick_types() is a legacy function. New code should use inst.pick(...).\n"
     ]
    },
    {
     "name": "stderr",
     "output_type": "stream",
     "text": [
      "/var/folders/bq/hl737msd54q59fzf7spf0r7h0000gn/T/ipykernel_74458/1770717913.py:47: DeprecationWarning: `np.int` is a deprecated alias for the builtin `int`. To silence this warning, use `int` by itself. Doing this will not modify any behavior and is safe. When replacing `np.int`, you may wish to use e.g. `np.int64` or `np.int32` to specify the precision. If you wish to review your current use, check the release note link for additional information.\n",
      "Deprecated in NumPy 1.20; for more details and guidance: https://numpy.org/devdocs/release/1.20.0-notes.html#deprecations\n",
      "  cut = np.int(sig_length*fs)\n"
     ]
    },
    {
     "name": "stdout",
     "output_type": "stream",
     "text": [
      "Analyzing Avlanches of data/input/continuous/sub0-day1-mindfulness-raw.fif\n",
      "Opening raw data file data/input/continuous/sub0-day1-mindfulness-raw.fif...\n",
      "    Range : 1991 ... 347738 =      7.777 ...  1358.352 secs\n",
      "Ready.\n",
      "Reading 0 ... 345747  =      0.000 ...  1350.574 secs...\n",
      "Setting channel interpolation method to {'eeg': 'spline'}.\n",
      "NOTE: pick_types() is a legacy function. New code should use inst.pick(...).\n"
     ]
    },
    {
     "name": "stderr",
     "output_type": "stream",
     "text": [
      "/var/folders/bq/hl737msd54q59fzf7spf0r7h0000gn/T/ipykernel_74458/1770717913.py:38: RuntimeWarning: No bad channels to interpolate. Doing nothing...\n",
      "  raw.interpolate_bads(reset_bads=True)\n",
      "/var/folders/bq/hl737msd54q59fzf7spf0r7h0000gn/T/ipykernel_74458/1770717913.py:47: DeprecationWarning: `np.int` is a deprecated alias for the builtin `int`. To silence this warning, use `int` by itself. Doing this will not modify any behavior and is safe. When replacing `np.int`, you may wish to use e.g. `np.int64` or `np.int32` to specify the precision. If you wish to review your current use, check the release note link for additional information.\n",
      "Deprecated in NumPy 1.20; for more details and guidance: https://numpy.org/devdocs/release/1.20.0-notes.html#deprecations\n",
      "  cut = np.int(sig_length*fs)\n"
     ]
    },
    {
     "name": "stdout",
     "output_type": "stream",
     "text": [
      "Analyzing Avlanches of data/input/continuous/sub0-day2-jhana-raw.fif\n",
      "Opening raw data file data/input/continuous/sub0-day2-jhana-raw.fif...\n",
      "    Range : 512 ... 323799 =      2.000 ...  1264.840 secs\n",
      "Ready.\n",
      "Reading 0 ... 323287  =      0.000 ...  1262.840 secs...\n",
      "Setting channel interpolation method to {'eeg': 'spline'}.\n",
      "Interpolating bad channels.\n",
      "    Automatic origin fit: head of radius 95.7 mm\n",
      "Computing interpolation matrix from 29 sensor positions\n",
      "Interpolating 3 sensors\n",
      "NOTE: pick_types() is a legacy function. New code should use inst.pick(...).\n"
     ]
    },
    {
     "name": "stderr",
     "output_type": "stream",
     "text": [
      "/var/folders/bq/hl737msd54q59fzf7spf0r7h0000gn/T/ipykernel_74458/1770717913.py:47: DeprecationWarning: `np.int` is a deprecated alias for the builtin `int`. To silence this warning, use `int` by itself. Doing this will not modify any behavior and is safe. When replacing `np.int`, you may wish to use e.g. `np.int64` or `np.int32` to specify the precision. If you wish to review your current use, check the release note link for additional information.\n",
      "Deprecated in NumPy 1.20; for more details and guidance: https://numpy.org/devdocs/release/1.20.0-notes.html#deprecations\n",
      "  cut = np.int(sig_length*fs)\n"
     ]
    },
    {
     "name": "stdout",
     "output_type": "stream",
     "text": [
      "Analyzing Avlanches of data/input/continuous/sub0-day2-mindfulness-raw.fif\n",
      "Opening raw data file data/input/continuous/sub0-day2-mindfulness-raw.fif...\n",
      "    Range : 512 ... 294535 =      2.000 ...  1150.527 secs\n",
      "Ready.\n",
      "Reading 0 ... 294023  =      0.000 ...  1148.527 secs...\n",
      "Setting channel interpolation method to {'eeg': 'spline'}.\n",
      "Interpolating bad channels.\n",
      "    Automatic origin fit: head of radius 95.7 mm\n",
      "Computing interpolation matrix from 23 sensor positions\n",
      "Interpolating 9 sensors\n",
      "NOTE: pick_types() is a legacy function. New code should use inst.pick(...).\n"
     ]
    },
    {
     "name": "stderr",
     "output_type": "stream",
     "text": [
      "/var/folders/bq/hl737msd54q59fzf7spf0r7h0000gn/T/ipykernel_74458/1770717913.py:47: DeprecationWarning: `np.int` is a deprecated alias for the builtin `int`. To silence this warning, use `int` by itself. Doing this will not modify any behavior and is safe. When replacing `np.int`, you may wish to use e.g. `np.int64` or `np.int32` to specify the precision. If you wish to review your current use, check the release note link for additional information.\n",
      "Deprecated in NumPy 1.20; for more details and guidance: https://numpy.org/devdocs/release/1.20.0-notes.html#deprecations\n",
      "  cut = np.int(sig_length*fs)\n"
     ]
    },
    {
     "name": "stdout",
     "output_type": "stream",
     "text": [
      "Analyzing Avlanches of data/input/continuous/sub0-day3-jhana-raw.fif\n",
      "Opening raw data file data/input/continuous/sub0-day3-jhana-raw.fif...\n",
      "    Range : 768 ... 315657 =      3.000 ...  1233.035 secs\n",
      "Ready.\n",
      "Reading 0 ... 314889  =      0.000 ...  1230.035 secs...\n",
      "Setting channel interpolation method to {'eeg': 'spline'}.\n",
      "Interpolating bad channels.\n",
      "    Automatic origin fit: head of radius 95.7 mm\n",
      "Computing interpolation matrix from 29 sensor positions\n",
      "Interpolating 3 sensors\n",
      "NOTE: pick_types() is a legacy function. New code should use inst.pick(...).\n"
     ]
    },
    {
     "name": "stderr",
     "output_type": "stream",
     "text": [
      "/var/folders/bq/hl737msd54q59fzf7spf0r7h0000gn/T/ipykernel_74458/1770717913.py:47: DeprecationWarning: `np.int` is a deprecated alias for the builtin `int`. To silence this warning, use `int` by itself. Doing this will not modify any behavior and is safe. When replacing `np.int`, you may wish to use e.g. `np.int64` or `np.int32` to specify the precision. If you wish to review your current use, check the release note link for additional information.\n",
      "Deprecated in NumPy 1.20; for more details and guidance: https://numpy.org/devdocs/release/1.20.0-notes.html#deprecations\n",
      "  cut = np.int(sig_length*fs)\n"
     ]
    },
    {
     "name": "stdout",
     "output_type": "stream",
     "text": [
      "Analyzing Avlanches of data/input/continuous/sub0-day3-mindfulness-raw.fif\n",
      "Opening raw data file data/input/continuous/sub0-day3-mindfulness-raw.fif...\n",
      "    Range : 768 ... 348592 =      3.000 ...  1361.688 secs\n",
      "Ready.\n",
      "Reading 0 ... 347824  =      0.000 ...  1358.688 secs...\n",
      "Setting channel interpolation method to {'eeg': 'spline'}.\n",
      "NOTE: pick_types() is a legacy function. New code should use inst.pick(...).\n"
     ]
    },
    {
     "name": "stderr",
     "output_type": "stream",
     "text": [
      "/var/folders/bq/hl737msd54q59fzf7spf0r7h0000gn/T/ipykernel_74458/1770717913.py:38: RuntimeWarning: No bad channels to interpolate. Doing nothing...\n",
      "  raw.interpolate_bads(reset_bads=True)\n",
      "/var/folders/bq/hl737msd54q59fzf7spf0r7h0000gn/T/ipykernel_74458/1770717913.py:47: DeprecationWarning: `np.int` is a deprecated alias for the builtin `int`. To silence this warning, use `int` by itself. Doing this will not modify any behavior and is safe. When replacing `np.int`, you may wish to use e.g. `np.int64` or `np.int32` to specify the precision. If you wish to review your current use, check the release note link for additional information.\n",
      "Deprecated in NumPy 1.20; for more details and guidance: https://numpy.org/devdocs/release/1.20.0-notes.html#deprecations\n",
      "  cut = np.int(sig_length*fs)\n"
     ]
    },
    {
     "name": "stdout",
     "output_type": "stream",
     "text": [
      "Analyzing Avlanches of data/input/continuous/sub0-day4-jhana-raw.fif\n",
      "Opening raw data file data/input/continuous/sub0-day4-jhana-raw.fif...\n",
      "    Range : 21338 ... 346563 =     83.352 ...  1353.762 secs\n",
      "Ready.\n",
      "Reading 0 ... 325225  =      0.000 ...  1270.410 secs...\n",
      "Setting channel interpolation method to {'eeg': 'spline'}.\n",
      "Interpolating bad channels.\n",
      "    Automatic origin fit: head of radius 95.7 mm\n",
      "Computing interpolation matrix from 28 sensor positions\n",
      "Interpolating 4 sensors\n",
      "NOTE: pick_types() is a legacy function. New code should use inst.pick(...).\n"
     ]
    },
    {
     "name": "stderr",
     "output_type": "stream",
     "text": [
      "/var/folders/bq/hl737msd54q59fzf7spf0r7h0000gn/T/ipykernel_74458/1770717913.py:47: DeprecationWarning: `np.int` is a deprecated alias for the builtin `int`. To silence this warning, use `int` by itself. Doing this will not modify any behavior and is safe. When replacing `np.int`, you may wish to use e.g. `np.int64` or `np.int32` to specify the precision. If you wish to review your current use, check the release note link for additional information.\n",
      "Deprecated in NumPy 1.20; for more details and guidance: https://numpy.org/devdocs/release/1.20.0-notes.html#deprecations\n",
      "  cut = np.int(sig_length*fs)\n"
     ]
    },
    {
     "name": "stdout",
     "output_type": "stream",
     "text": [
      "Analyzing Avlanches of data/input/continuous/sub0-day4-mindfulness-raw.fif\n",
      "Opening raw data file data/input/continuous/sub0-day4-mindfulness-raw.fif...\n",
      "    Range : 15530 ... 294331 =     60.664 ...  1149.730 secs\n",
      "Ready.\n",
      "Reading 0 ... 278801  =      0.000 ...  1089.066 secs...\n",
      "Setting channel interpolation method to {'eeg': 'spline'}.\n",
      "Interpolating bad channels.\n",
      "    Automatic origin fit: head of radius 95.7 mm\n",
      "Computing interpolation matrix from 26 sensor positions\n",
      "Interpolating 6 sensors\n",
      "NOTE: pick_types() is a legacy function. New code should use inst.pick(...).\n"
     ]
    },
    {
     "name": "stderr",
     "output_type": "stream",
     "text": [
      "/var/folders/bq/hl737msd54q59fzf7spf0r7h0000gn/T/ipykernel_74458/1770717913.py:47: DeprecationWarning: `np.int` is a deprecated alias for the builtin `int`. To silence this warning, use `int` by itself. Doing this will not modify any behavior and is safe. When replacing `np.int`, you may wish to use e.g. `np.int64` or `np.int32` to specify the precision. If you wish to review your current use, check the release note link for additional information.\n",
      "Deprecated in NumPy 1.20; for more details and guidance: https://numpy.org/devdocs/release/1.20.0-notes.html#deprecations\n",
      "  cut = np.int(sig_length*fs)\n"
     ]
    },
    {
     "name": "stdout",
     "output_type": "stream",
     "text": [
      "Analyzing Avlanches of data/input/continuous/sub1-day1-jhana-raw.fif\n",
      "Opening raw data file data/input/continuous/sub1-day1-jhana-raw.fif...\n",
      "    Range : 5224 ... 333329 =     20.406 ...  1302.066 secs\n",
      "Ready.\n",
      "Reading 0 ... 328105  =      0.000 ...  1281.660 secs...\n",
      "Setting channel interpolation method to {'eeg': 'spline'}.\n",
      "Interpolating bad channels.\n",
      "    Automatic origin fit: head of radius 95.7 mm\n",
      "Computing interpolation matrix from 27 sensor positions\n",
      "Interpolating 5 sensors\n",
      "NOTE: pick_types() is a legacy function. New code should use inst.pick(...).\n"
     ]
    },
    {
     "name": "stderr",
     "output_type": "stream",
     "text": [
      "/var/folders/bq/hl737msd54q59fzf7spf0r7h0000gn/T/ipykernel_74458/1770717913.py:47: DeprecationWarning: `np.int` is a deprecated alias for the builtin `int`. To silence this warning, use `int` by itself. Doing this will not modify any behavior and is safe. When replacing `np.int`, you may wish to use e.g. `np.int64` or `np.int32` to specify the precision. If you wish to review your current use, check the release note link for additional information.\n",
      "Deprecated in NumPy 1.20; for more details and guidance: https://numpy.org/devdocs/release/1.20.0-notes.html#deprecations\n",
      "  cut = np.int(sig_length*fs)\n"
     ]
    },
    {
     "name": "stdout",
     "output_type": "stream",
     "text": [
      "Analyzing Avlanches of data/input/continuous/sub1-day1-mindfulness-raw.fif\n",
      "Opening raw data file data/input/continuous/sub1-day1-mindfulness-raw.fif...\n",
      "    Range : 768 ... 280060 =      3.000 ...  1093.984 secs\n",
      "Ready.\n",
      "Reading 0 ... 279292  =      0.000 ...  1090.984 secs...\n",
      "Setting channel interpolation method to {'eeg': 'spline'}.\n",
      "Interpolating bad channels.\n",
      "    Automatic origin fit: head of radius 95.7 mm\n",
      "Computing interpolation matrix from 31 sensor positions\n",
      "Interpolating 1 sensors\n",
      "NOTE: pick_types() is a legacy function. New code should use inst.pick(...).\n"
     ]
    },
    {
     "name": "stderr",
     "output_type": "stream",
     "text": [
      "/var/folders/bq/hl737msd54q59fzf7spf0r7h0000gn/T/ipykernel_74458/1770717913.py:47: DeprecationWarning: `np.int` is a deprecated alias for the builtin `int`. To silence this warning, use `int` by itself. Doing this will not modify any behavior and is safe. When replacing `np.int`, you may wish to use e.g. `np.int64` or `np.int32` to specify the precision. If you wish to review your current use, check the release note link for additional information.\n",
      "Deprecated in NumPy 1.20; for more details and guidance: https://numpy.org/devdocs/release/1.20.0-notes.html#deprecations\n",
      "  cut = np.int(sig_length*fs)\n"
     ]
    },
    {
     "name": "stdout",
     "output_type": "stream",
     "text": [
      "Analyzing Avlanches of data/input/continuous/sub1-day2-jhana-raw.fif\n",
      "Opening raw data file data/input/continuous/sub1-day2-jhana-raw.fif...\n",
      "    Range : 2795 ... 298105 =     10.918 ...  1164.473 secs\n",
      "Ready.\n",
      "Reading 0 ... 295310  =      0.000 ...  1153.555 secs...\n",
      "Setting channel interpolation method to {'eeg': 'spline'}.\n",
      "Interpolating bad channels.\n",
      "    Automatic origin fit: head of radius 95.7 mm\n",
      "Computing interpolation matrix from 27 sensor positions\n",
      "Interpolating 5 sensors\n",
      "NOTE: pick_types() is a legacy function. New code should use inst.pick(...).\n"
     ]
    },
    {
     "name": "stderr",
     "output_type": "stream",
     "text": [
      "/var/folders/bq/hl737msd54q59fzf7spf0r7h0000gn/T/ipykernel_74458/1770717913.py:47: DeprecationWarning: `np.int` is a deprecated alias for the builtin `int`. To silence this warning, use `int` by itself. Doing this will not modify any behavior and is safe. When replacing `np.int`, you may wish to use e.g. `np.int64` or `np.int32` to specify the precision. If you wish to review your current use, check the release note link for additional information.\n",
      "Deprecated in NumPy 1.20; for more details and guidance: https://numpy.org/devdocs/release/1.20.0-notes.html#deprecations\n",
      "  cut = np.int(sig_length*fs)\n"
     ]
    },
    {
     "name": "stdout",
     "output_type": "stream",
     "text": [
      "Analyzing Avlanches of data/input/continuous/sub1-day2-mindfulness-raw.fif\n",
      "Opening raw data file data/input/continuous/sub1-day2-mindfulness-raw.fif...\n",
      "    Range : 512 ... 364958 =      2.000 ...  1425.617 secs\n",
      "Ready.\n",
      "Reading 0 ... 364446  =      0.000 ...  1423.617 secs...\n",
      "Setting channel interpolation method to {'eeg': 'spline'}.\n",
      "Interpolating bad channels.\n",
      "    Automatic origin fit: head of radius 95.7 mm\n",
      "Computing interpolation matrix from 29 sensor positions\n",
      "Interpolating 3 sensors\n",
      "NOTE: pick_types() is a legacy function. New code should use inst.pick(...).\n"
     ]
    },
    {
     "name": "stderr",
     "output_type": "stream",
     "text": [
      "/var/folders/bq/hl737msd54q59fzf7spf0r7h0000gn/T/ipykernel_74458/1770717913.py:47: DeprecationWarning: `np.int` is a deprecated alias for the builtin `int`. To silence this warning, use `int` by itself. Doing this will not modify any behavior and is safe. When replacing `np.int`, you may wish to use e.g. `np.int64` or `np.int32` to specify the precision. If you wish to review your current use, check the release note link for additional information.\n",
      "Deprecated in NumPy 1.20; for more details and guidance: https://numpy.org/devdocs/release/1.20.0-notes.html#deprecations\n",
      "  cut = np.int(sig_length*fs)\n"
     ]
    },
    {
     "name": "stdout",
     "output_type": "stream",
     "text": [
      "Analyzing Avlanches of data/input/continuous/sub1-day3-jhana-raw.fif\n",
      "Opening raw data file data/input/continuous/sub1-day3-jhana-raw.fif...\n",
      "    Range : 512 ... 296246 =      2.000 ...  1157.211 secs\n",
      "Ready.\n",
      "Reading 0 ... 295734  =      0.000 ...  1155.211 secs...\n",
      "Setting channel interpolation method to {'eeg': 'spline'}.\n",
      "Interpolating bad channels.\n",
      "    Automatic origin fit: head of radius 95.7 mm\n",
      "Computing interpolation matrix from 25 sensor positions\n",
      "Interpolating 7 sensors\n",
      "NOTE: pick_types() is a legacy function. New code should use inst.pick(...).\n"
     ]
    },
    {
     "name": "stderr",
     "output_type": "stream",
     "text": [
      "/var/folders/bq/hl737msd54q59fzf7spf0r7h0000gn/T/ipykernel_74458/1770717913.py:47: DeprecationWarning: `np.int` is a deprecated alias for the builtin `int`. To silence this warning, use `int` by itself. Doing this will not modify any behavior and is safe. When replacing `np.int`, you may wish to use e.g. `np.int64` or `np.int32` to specify the precision. If you wish to review your current use, check the release note link for additional information.\n",
      "Deprecated in NumPy 1.20; for more details and guidance: https://numpy.org/devdocs/release/1.20.0-notes.html#deprecations\n",
      "  cut = np.int(sig_length*fs)\n"
     ]
    },
    {
     "name": "stdout",
     "output_type": "stream",
     "text": [
      "Analyzing Avlanches of data/input/continuous/sub1-day3-mindfulness-raw.fif\n",
      "Opening raw data file data/input/continuous/sub1-day3-mindfulness-raw.fif...\n",
      "    Range : 1280 ... 364310 =      5.000 ...  1423.086 secs\n",
      "Ready.\n",
      "Reading 0 ... 363030  =      0.000 ...  1418.086 secs...\n",
      "Setting channel interpolation method to {'eeg': 'spline'}.\n",
      "Interpolating bad channels.\n",
      "    Automatic origin fit: head of radius 95.7 mm\n",
      "Computing interpolation matrix from 29 sensor positions\n",
      "Interpolating 3 sensors\n",
      "NOTE: pick_types() is a legacy function. New code should use inst.pick(...).\n"
     ]
    },
    {
     "name": "stderr",
     "output_type": "stream",
     "text": [
      "/var/folders/bq/hl737msd54q59fzf7spf0r7h0000gn/T/ipykernel_74458/1770717913.py:47: DeprecationWarning: `np.int` is a deprecated alias for the builtin `int`. To silence this warning, use `int` by itself. Doing this will not modify any behavior and is safe. When replacing `np.int`, you may wish to use e.g. `np.int64` or `np.int32` to specify the precision. If you wish to review your current use, check the release note link for additional information.\n",
      "Deprecated in NumPy 1.20; for more details and guidance: https://numpy.org/devdocs/release/1.20.0-notes.html#deprecations\n",
      "  cut = np.int(sig_length*fs)\n"
     ]
    },
    {
     "name": "stdout",
     "output_type": "stream",
     "text": [
      "Analyzing Avlanches of data/input/continuous/sub1-day4-jhana-raw.fif\n",
      "Opening raw data file data/input/continuous/sub1-day4-jhana-raw.fif...\n",
      "    Range : 1672 ... 372759 =      6.531 ...  1456.090 secs\n",
      "Ready.\n",
      "Reading 0 ... 371087  =      0.000 ...  1449.559 secs...\n",
      "Setting channel interpolation method to {'eeg': 'spline'}.\n",
      "Interpolating bad channels.\n",
      "    Automatic origin fit: head of radius 95.7 mm\n",
      "Computing interpolation matrix from 29 sensor positions\n",
      "Interpolating 3 sensors\n",
      "NOTE: pick_types() is a legacy function. New code should use inst.pick(...).\n"
     ]
    },
    {
     "name": "stderr",
     "output_type": "stream",
     "text": [
      "/var/folders/bq/hl737msd54q59fzf7spf0r7h0000gn/T/ipykernel_74458/1770717913.py:47: DeprecationWarning: `np.int` is a deprecated alias for the builtin `int`. To silence this warning, use `int` by itself. Doing this will not modify any behavior and is safe. When replacing `np.int`, you may wish to use e.g. `np.int64` or `np.int32` to specify the precision. If you wish to review your current use, check the release note link for additional information.\n",
      "Deprecated in NumPy 1.20; for more details and guidance: https://numpy.org/devdocs/release/1.20.0-notes.html#deprecations\n",
      "  cut = np.int(sig_length*fs)\n"
     ]
    },
    {
     "name": "stdout",
     "output_type": "stream",
     "text": [
      "Analyzing Avlanches of data/input/continuous/sub1-day4-mindfulness-raw.fif\n",
      "Opening raw data file data/input/continuous/sub1-day4-mindfulness-raw.fif...\n",
      "    Range : 1676 ... 335544 =      6.547 ...  1310.719 secs\n",
      "Ready.\n",
      "Reading 0 ... 333868  =      0.000 ...  1304.172 secs...\n",
      "Setting channel interpolation method to {'eeg': 'spline'}.\n",
      "Interpolating bad channels.\n",
      "    Automatic origin fit: head of radius 95.7 mm\n",
      "Computing interpolation matrix from 28 sensor positions\n",
      "Interpolating 4 sensors\n",
      "NOTE: pick_types() is a legacy function. New code should use inst.pick(...).\n"
     ]
    },
    {
     "name": "stderr",
     "output_type": "stream",
     "text": [
      "/var/folders/bq/hl737msd54q59fzf7spf0r7h0000gn/T/ipykernel_74458/1770717913.py:47: DeprecationWarning: `np.int` is a deprecated alias for the builtin `int`. To silence this warning, use `int` by itself. Doing this will not modify any behavior and is safe. When replacing `np.int`, you may wish to use e.g. `np.int64` or `np.int32` to specify the precision. If you wish to review your current use, check the release note link for additional information.\n",
      "Deprecated in NumPy 1.20; for more details and guidance: https://numpy.org/devdocs/release/1.20.0-notes.html#deprecations\n",
      "  cut = np.int(sig_length*fs)\n"
     ]
    },
    {
     "name": "stdout",
     "output_type": "stream",
     "text": [
      "Analyzing Avlanches of data/input/continuous/sub2-day1-jhana-raw.fif\n",
      "Opening raw data file data/input/continuous/sub2-day1-jhana-raw.fif...\n",
      "    Range : 2531 ... 352063 =      9.887 ...  1375.246 secs\n",
      "Ready.\n",
      "Reading 0 ... 349532  =      0.000 ...  1365.359 secs...\n",
      "Setting channel interpolation method to {'eeg': 'spline'}.\n",
      "Interpolating bad channels.\n",
      "    Automatic origin fit: head of radius 95.7 mm\n",
      "Computing interpolation matrix from 23 sensor positions\n",
      "Interpolating 9 sensors\n",
      "NOTE: pick_types() is a legacy function. New code should use inst.pick(...).\n"
     ]
    },
    {
     "name": "stderr",
     "output_type": "stream",
     "text": [
      "/var/folders/bq/hl737msd54q59fzf7spf0r7h0000gn/T/ipykernel_74458/1770717913.py:47: DeprecationWarning: `np.int` is a deprecated alias for the builtin `int`. To silence this warning, use `int` by itself. Doing this will not modify any behavior and is safe. When replacing `np.int`, you may wish to use e.g. `np.int64` or `np.int32` to specify the precision. If you wish to review your current use, check the release note link for additional information.\n",
      "Deprecated in NumPy 1.20; for more details and guidance: https://numpy.org/devdocs/release/1.20.0-notes.html#deprecations\n",
      "  cut = np.int(sig_length*fs)\n"
     ]
    },
    {
     "name": "stdout",
     "output_type": "stream",
     "text": [
      "Analyzing Avlanches of data/input/continuous/sub2-day1-mindfulness-raw.fif\n",
      "Opening raw data file data/input/continuous/sub2-day1-mindfulness-raw.fif...\n",
      "    Range : 12032 ... 22594 =     47.000 ...    88.258 secs\n",
      "Ready.\n",
      "Reading 0 ... 10562  =      0.000 ...    41.258 secs...\n",
      "Setting channel interpolation method to {'eeg': 'spline'}.\n",
      "Interpolating bad channels.\n",
      "    Automatic origin fit: head of radius 95.7 mm\n",
      "Computing interpolation matrix from 28 sensor positions\n",
      "Interpolating 4 sensors\n",
      "NOTE: pick_types() is a legacy function. New code should use inst.pick(...).\n",
      "Analyzing Avlanches of data/input/continuous/sub2-day2-jhana-raw.fif\n",
      "Opening raw data file data/input/continuous/sub2-day2-jhana-raw.fif...\n",
      "    Range : 8184 ... 300360 =     31.969 ...  1173.281 secs\n",
      "Ready.\n",
      "Reading 0 ... 292176  =      0.000 ...  1141.312 secs...\n"
     ]
    },
    {
     "name": "stderr",
     "output_type": "stream",
     "text": [
      "/var/folders/bq/hl737msd54q59fzf7spf0r7h0000gn/T/ipykernel_74458/1770717913.py:47: DeprecationWarning: `np.int` is a deprecated alias for the builtin `int`. To silence this warning, use `int` by itself. Doing this will not modify any behavior and is safe. When replacing `np.int`, you may wish to use e.g. `np.int64` or `np.int32` to specify the precision. If you wish to review your current use, check the release note link for additional information.\n",
      "Deprecated in NumPy 1.20; for more details and guidance: https://numpy.org/devdocs/release/1.20.0-notes.html#deprecations\n",
      "  cut = np.int(sig_length*fs)\n"
     ]
    },
    {
     "name": "stdout",
     "output_type": "stream",
     "text": [
      "Setting channel interpolation method to {'eeg': 'spline'}.\n",
      "NOTE: pick_types() is a legacy function. New code should use inst.pick(...).\n"
     ]
    },
    {
     "name": "stderr",
     "output_type": "stream",
     "text": [
      "/var/folders/bq/hl737msd54q59fzf7spf0r7h0000gn/T/ipykernel_74458/1770717913.py:38: RuntimeWarning: No bad channels to interpolate. Doing nothing...\n",
      "  raw.interpolate_bads(reset_bads=True)\n",
      "/var/folders/bq/hl737msd54q59fzf7spf0r7h0000gn/T/ipykernel_74458/1770717913.py:47: DeprecationWarning: `np.int` is a deprecated alias for the builtin `int`. To silence this warning, use `int` by itself. Doing this will not modify any behavior and is safe. When replacing `np.int`, you may wish to use e.g. `np.int64` or `np.int32` to specify the precision. If you wish to review your current use, check the release note link for additional information.\n",
      "Deprecated in NumPy 1.20; for more details and guidance: https://numpy.org/devdocs/release/1.20.0-notes.html#deprecations\n",
      "  cut = np.int(sig_length*fs)\n"
     ]
    },
    {
     "name": "stdout",
     "output_type": "stream",
     "text": [
      "Analyzing Avlanches of data/input/continuous/sub2-day2-mindfulness-raw.fif\n",
      "Opening raw data file data/input/continuous/sub2-day2-mindfulness-raw.fif...\n",
      "    Range : 512 ... 356319 =      2.000 ...  1391.871 secs\n",
      "Ready.\n",
      "Reading 0 ... 355807  =      0.000 ...  1389.871 secs...\n",
      "Setting channel interpolation method to {'eeg': 'spline'}.\n",
      "NOTE: pick_types() is a legacy function. New code should use inst.pick(...).\n"
     ]
    },
    {
     "name": "stderr",
     "output_type": "stream",
     "text": [
      "/var/folders/bq/hl737msd54q59fzf7spf0r7h0000gn/T/ipykernel_74458/1770717913.py:38: RuntimeWarning: No bad channels to interpolate. Doing nothing...\n",
      "  raw.interpolate_bads(reset_bads=True)\n",
      "/var/folders/bq/hl737msd54q59fzf7spf0r7h0000gn/T/ipykernel_74458/1770717913.py:47: DeprecationWarning: `np.int` is a deprecated alias for the builtin `int`. To silence this warning, use `int` by itself. Doing this will not modify any behavior and is safe. When replacing `np.int`, you may wish to use e.g. `np.int64` or `np.int32` to specify the precision. If you wish to review your current use, check the release note link for additional information.\n",
      "Deprecated in NumPy 1.20; for more details and guidance: https://numpy.org/devdocs/release/1.20.0-notes.html#deprecations\n",
      "  cut = np.int(sig_length*fs)\n"
     ]
    },
    {
     "name": "stdout",
     "output_type": "stream",
     "text": [
      "Analyzing Avlanches of data/input/continuous/sub2-day3-jhana-raw.fif\n",
      "Opening raw data file data/input/continuous/sub2-day3-jhana-raw.fif...\n",
      "    Range : 256 ... 330120 =      1.000 ...  1289.531 secs\n",
      "Ready.\n",
      "Reading 0 ... 329864  =      0.000 ...  1288.531 secs...\n",
      "Setting channel interpolation method to {'eeg': 'spline'}.\n",
      "Interpolating bad channels.\n",
      "    Automatic origin fit: head of radius 95.7 mm\n",
      "Computing interpolation matrix from 29 sensor positions\n",
      "Interpolating 3 sensors\n",
      "NOTE: pick_types() is a legacy function. New code should use inst.pick(...).\n"
     ]
    },
    {
     "name": "stderr",
     "output_type": "stream",
     "text": [
      "/var/folders/bq/hl737msd54q59fzf7spf0r7h0000gn/T/ipykernel_74458/1770717913.py:47: DeprecationWarning: `np.int` is a deprecated alias for the builtin `int`. To silence this warning, use `int` by itself. Doing this will not modify any behavior and is safe. When replacing `np.int`, you may wish to use e.g. `np.int64` or `np.int32` to specify the precision. If you wish to review your current use, check the release note link for additional information.\n",
      "Deprecated in NumPy 1.20; for more details and guidance: https://numpy.org/devdocs/release/1.20.0-notes.html#deprecations\n",
      "  cut = np.int(sig_length*fs)\n"
     ]
    },
    {
     "name": "stdout",
     "output_type": "stream",
     "text": [
      "Analyzing Avlanches of data/input/continuous/sub2-day3-mindfulness-raw.fif\n",
      "Opening raw data file data/input/continuous/sub2-day3-mindfulness-raw.fif...\n",
      "    Range : 512 ... 321939 =      2.000 ...  1257.574 secs\n",
      "Ready.\n",
      "Reading 0 ... 321427  =      0.000 ...  1255.574 secs...\n",
      "Setting channel interpolation method to {'eeg': 'spline'}.\n",
      "NOTE: pick_types() is a legacy function. New code should use inst.pick(...).\n"
     ]
    },
    {
     "name": "stderr",
     "output_type": "stream",
     "text": [
      "/var/folders/bq/hl737msd54q59fzf7spf0r7h0000gn/T/ipykernel_74458/1770717913.py:38: RuntimeWarning: No bad channels to interpolate. Doing nothing...\n",
      "  raw.interpolate_bads(reset_bads=True)\n",
      "/var/folders/bq/hl737msd54q59fzf7spf0r7h0000gn/T/ipykernel_74458/1770717913.py:47: DeprecationWarning: `np.int` is a deprecated alias for the builtin `int`. To silence this warning, use `int` by itself. Doing this will not modify any behavior and is safe. When replacing `np.int`, you may wish to use e.g. `np.int64` or `np.int32` to specify the precision. If you wish to review your current use, check the release note link for additional information.\n",
      "Deprecated in NumPy 1.20; for more details and guidance: https://numpy.org/devdocs/release/1.20.0-notes.html#deprecations\n",
      "  cut = np.int(sig_length*fs)\n"
     ]
    },
    {
     "name": "stdout",
     "output_type": "stream",
     "text": [
      "Analyzing Avlanches of data/input/continuous/sub2-day4-jhana-raw.fif\n",
      "Opening raw data file data/input/continuous/sub2-day4-jhana-raw.fif...\n",
      "    Range : 256 ... 325953 =      1.000 ...  1273.254 secs\n",
      "Ready.\n",
      "Reading 0 ... 325697  =      0.000 ...  1272.254 secs...\n",
      "Setting channel interpolation method to {'eeg': 'spline'}.\n",
      "Interpolating bad channels.\n",
      "    Automatic origin fit: head of radius 95.7 mm\n",
      "Computing interpolation matrix from 26 sensor positions\n",
      "Interpolating 6 sensors\n",
      "NOTE: pick_types() is a legacy function. New code should use inst.pick(...).\n"
     ]
    },
    {
     "name": "stderr",
     "output_type": "stream",
     "text": [
      "/var/folders/bq/hl737msd54q59fzf7spf0r7h0000gn/T/ipykernel_74458/1770717913.py:47: DeprecationWarning: `np.int` is a deprecated alias for the builtin `int`. To silence this warning, use `int` by itself. Doing this will not modify any behavior and is safe. When replacing `np.int`, you may wish to use e.g. `np.int64` or `np.int32` to specify the precision. If you wish to review your current use, check the release note link for additional information.\n",
      "Deprecated in NumPy 1.20; for more details and guidance: https://numpy.org/devdocs/release/1.20.0-notes.html#deprecations\n",
      "  cut = np.int(sig_length*fs)\n"
     ]
    },
    {
     "name": "stdout",
     "output_type": "stream",
     "text": [
      "Analyzing Avlanches of data/input/continuous/sub2-day4-mindfulness-raw.fif\n",
      "Opening raw data file data/input/continuous/sub2-day4-mindfulness-raw.fif...\n",
      "    Range : 3461 ... 304864 =     13.520 ...  1190.875 secs\n",
      "Ready.\n",
      "Reading 0 ... 301403  =      0.000 ...  1177.355 secs...\n",
      "Setting channel interpolation method to {'eeg': 'spline'}.\n",
      "Interpolating bad channels.\n",
      "    Automatic origin fit: head of radius 95.7 mm\n",
      "Computing interpolation matrix from 29 sensor positions\n",
      "Interpolating 3 sensors\n",
      "NOTE: pick_types() is a legacy function. New code should use inst.pick(...).\n"
     ]
    },
    {
     "name": "stderr",
     "output_type": "stream",
     "text": [
      "/var/folders/bq/hl737msd54q59fzf7spf0r7h0000gn/T/ipykernel_74458/1770717913.py:47: DeprecationWarning: `np.int` is a deprecated alias for the builtin `int`. To silence this warning, use `int` by itself. Doing this will not modify any behavior and is safe. When replacing `np.int`, you may wish to use e.g. `np.int64` or `np.int32` to specify the precision. If you wish to review your current use, check the release note link for additional information.\n",
      "Deprecated in NumPy 1.20; for more details and guidance: https://numpy.org/devdocs/release/1.20.0-notes.html#deprecations\n",
      "  cut = np.int(sig_length*fs)\n"
     ]
    },
    {
     "name": "stdout",
     "output_type": "stream",
     "text": [
      "Analyzing Avlanches of data/input/continuous/sub3-day1-jhana-raw.fif\n",
      "Opening raw data file data/input/continuous/sub3-day1-jhana-raw.fif...\n",
      "    Range : 768 ... 255438 =      3.000 ...   997.805 secs\n",
      "Ready.\n",
      "Reading 0 ... 254670  =      0.000 ...   994.805 secs...\n",
      "Setting channel interpolation method to {'eeg': 'spline'}.\n",
      "Interpolating bad channels.\n",
      "    Automatic origin fit: head of radius 95.7 mm\n",
      "Computing interpolation matrix from 30 sensor positions\n",
      "Interpolating 2 sensors\n",
      "NOTE: pick_types() is a legacy function. New code should use inst.pick(...).\n"
     ]
    },
    {
     "name": "stderr",
     "output_type": "stream",
     "text": [
      "/var/folders/bq/hl737msd54q59fzf7spf0r7h0000gn/T/ipykernel_74458/1770717913.py:47: DeprecationWarning: `np.int` is a deprecated alias for the builtin `int`. To silence this warning, use `int` by itself. Doing this will not modify any behavior and is safe. When replacing `np.int`, you may wish to use e.g. `np.int64` or `np.int32` to specify the precision. If you wish to review your current use, check the release note link for additional information.\n",
      "Deprecated in NumPy 1.20; for more details and guidance: https://numpy.org/devdocs/release/1.20.0-notes.html#deprecations\n",
      "  cut = np.int(sig_length*fs)\n"
     ]
    },
    {
     "name": "stdout",
     "output_type": "stream",
     "text": [
      "Analyzing Avlanches of data/input/continuous/sub3-day1-mindfulness-raw.fif\n",
      "Opening raw data file data/input/continuous/sub3-day1-mindfulness-raw.fif...\n",
      "    Range : 60171 ... 301285 =    235.043 ...  1176.895 secs\n",
      "Ready.\n",
      "Reading 0 ... 241114  =      0.000 ...   941.852 secs...\n",
      "Setting channel interpolation method to {'eeg': 'spline'}.\n",
      "Interpolating bad channels.\n",
      "    Automatic origin fit: head of radius 95.7 mm\n",
      "Computing interpolation matrix from 28 sensor positions\n",
      "Interpolating 4 sensors\n",
      "NOTE: pick_types() is a legacy function. New code should use inst.pick(...).\n"
     ]
    },
    {
     "name": "stderr",
     "output_type": "stream",
     "text": [
      "/var/folders/bq/hl737msd54q59fzf7spf0r7h0000gn/T/ipykernel_74458/1770717913.py:47: DeprecationWarning: `np.int` is a deprecated alias for the builtin `int`. To silence this warning, use `int` by itself. Doing this will not modify any behavior and is safe. When replacing `np.int`, you may wish to use e.g. `np.int64` or `np.int32` to specify the precision. If you wish to review your current use, check the release note link for additional information.\n",
      "Deprecated in NumPy 1.20; for more details and guidance: https://numpy.org/devdocs/release/1.20.0-notes.html#deprecations\n",
      "  cut = np.int(sig_length*fs)\n"
     ]
    },
    {
     "name": "stdout",
     "output_type": "stream",
     "text": [
      "Analyzing Avlanches of data/input/continuous/sub3-day2-jhana-raw.fif\n",
      "Opening raw data file data/input/continuous/sub3-day2-jhana-raw.fif...\n",
      "    Range : 512 ... 302015 =      2.000 ...  1179.746 secs\n",
      "Ready.\n",
      "Reading 0 ... 301503  =      0.000 ...  1177.746 secs...\n",
      "Setting channel interpolation method to {'eeg': 'spline'}.\n",
      "NOTE: pick_types() is a legacy function. New code should use inst.pick(...).\n"
     ]
    },
    {
     "name": "stderr",
     "output_type": "stream",
     "text": [
      "/var/folders/bq/hl737msd54q59fzf7spf0r7h0000gn/T/ipykernel_74458/1770717913.py:38: RuntimeWarning: No bad channels to interpolate. Doing nothing...\n",
      "  raw.interpolate_bads(reset_bads=True)\n",
      "/var/folders/bq/hl737msd54q59fzf7spf0r7h0000gn/T/ipykernel_74458/1770717913.py:47: DeprecationWarning: `np.int` is a deprecated alias for the builtin `int`. To silence this warning, use `int` by itself. Doing this will not modify any behavior and is safe. When replacing `np.int`, you may wish to use e.g. `np.int64` or `np.int32` to specify the precision. If you wish to review your current use, check the release note link for additional information.\n",
      "Deprecated in NumPy 1.20; for more details and guidance: https://numpy.org/devdocs/release/1.20.0-notes.html#deprecations\n",
      "  cut = np.int(sig_length*fs)\n"
     ]
    },
    {
     "name": "stdout",
     "output_type": "stream",
     "text": [
      "Analyzing Avlanches of data/input/continuous/sub3-day2-mindfulness-raw.fif\n",
      "Opening raw data file data/input/continuous/sub3-day2-mindfulness-raw.fif...\n",
      "    Range : 768 ... 291586 =      3.000 ...  1139.008 secs\n",
      "Ready.\n",
      "Reading 0 ... 290818  =      0.000 ...  1136.008 secs...\n",
      "Setting channel interpolation method to {'eeg': 'spline'}.\n",
      "Interpolating bad channels.\n",
      "    Automatic origin fit: head of radius 95.7 mm\n",
      "Computing interpolation matrix from 30 sensor positions\n",
      "Interpolating 2 sensors\n",
      "NOTE: pick_types() is a legacy function. New code should use inst.pick(...).\n"
     ]
    },
    {
     "name": "stderr",
     "output_type": "stream",
     "text": [
      "/var/folders/bq/hl737msd54q59fzf7spf0r7h0000gn/T/ipykernel_74458/1770717913.py:47: DeprecationWarning: `np.int` is a deprecated alias for the builtin `int`. To silence this warning, use `int` by itself. Doing this will not modify any behavior and is safe. When replacing `np.int`, you may wish to use e.g. `np.int64` or `np.int32` to specify the precision. If you wish to review your current use, check the release note link for additional information.\n",
      "Deprecated in NumPy 1.20; for more details and guidance: https://numpy.org/devdocs/release/1.20.0-notes.html#deprecations\n",
      "  cut = np.int(sig_length*fs)\n"
     ]
    },
    {
     "name": "stdout",
     "output_type": "stream",
     "text": [
      "Analyzing Avlanches of data/input/continuous/sub3-day3-jhana-raw.fif\n",
      "Opening raw data file data/input/continuous/sub3-day3-jhana-raw.fif...\n",
      "    Range : 256 ... 302900 =      1.000 ...  1183.203 secs\n",
      "Ready.\n",
      "Reading 0 ... 302644  =      0.000 ...  1182.203 secs...\n",
      "Setting channel interpolation method to {'eeg': 'spline'}.\n",
      "Interpolating bad channels.\n",
      "    Automatic origin fit: head of radius 95.7 mm\n",
      "Computing interpolation matrix from 27 sensor positions\n",
      "Interpolating 5 sensors\n",
      "NOTE: pick_types() is a legacy function. New code should use inst.pick(...).\n"
     ]
    },
    {
     "name": "stderr",
     "output_type": "stream",
     "text": [
      "/var/folders/bq/hl737msd54q59fzf7spf0r7h0000gn/T/ipykernel_74458/1770717913.py:47: DeprecationWarning: `np.int` is a deprecated alias for the builtin `int`. To silence this warning, use `int` by itself. Doing this will not modify any behavior and is safe. When replacing `np.int`, you may wish to use e.g. `np.int64` or `np.int32` to specify the precision. If you wish to review your current use, check the release note link for additional information.\n",
      "Deprecated in NumPy 1.20; for more details and guidance: https://numpy.org/devdocs/release/1.20.0-notes.html#deprecations\n",
      "  cut = np.int(sig_length*fs)\n"
     ]
    },
    {
     "name": "stdout",
     "output_type": "stream",
     "text": [
      "Analyzing Avlanches of data/input/continuous/sub3-day3-mindfulness-raw.fif\n",
      "Opening raw data file data/input/continuous/sub3-day3-mindfulness-raw.fif...\n",
      "    Range : 768 ... 254080 =      3.000 ...   992.500 secs\n",
      "Ready.\n",
      "Reading 0 ... 253312  =      0.000 ...   989.500 secs...\n",
      "Setting channel interpolation method to {'eeg': 'spline'}.\n",
      "Interpolating bad channels.\n",
      "    Automatic origin fit: head of radius 95.7 mm\n",
      "Computing interpolation matrix from 28 sensor positions\n",
      "Interpolating 4 sensors\n",
      "NOTE: pick_types() is a legacy function. New code should use inst.pick(...).\n"
     ]
    },
    {
     "name": "stderr",
     "output_type": "stream",
     "text": [
      "/var/folders/bq/hl737msd54q59fzf7spf0r7h0000gn/T/ipykernel_74458/1770717913.py:47: DeprecationWarning: `np.int` is a deprecated alias for the builtin `int`. To silence this warning, use `int` by itself. Doing this will not modify any behavior and is safe. When replacing `np.int`, you may wish to use e.g. `np.int64` or `np.int32` to specify the precision. If you wish to review your current use, check the release note link for additional information.\n",
      "Deprecated in NumPy 1.20; for more details and guidance: https://numpy.org/devdocs/release/1.20.0-notes.html#deprecations\n",
      "  cut = np.int(sig_length*fs)\n"
     ]
    },
    {
     "name": "stdout",
     "output_type": "stream",
     "text": [
      "Analyzing Avlanches of data/input/continuous/sub3-day4-jhana-raw.fif\n",
      "Opening raw data file data/input/continuous/sub3-day4-jhana-raw.fif...\n",
      "    Range : 52834 ... 297841 =    206.383 ...  1163.441 secs\n",
      "Ready.\n",
      "Reading 0 ... 245007  =      0.000 ...   957.059 secs...\n",
      "Setting channel interpolation method to {'eeg': 'spline'}.\n",
      "Interpolating bad channels.\n",
      "    Automatic origin fit: head of radius 95.7 mm\n",
      "Computing interpolation matrix from 29 sensor positions\n",
      "Interpolating 3 sensors\n",
      "NOTE: pick_types() is a legacy function. New code should use inst.pick(...).\n"
     ]
    },
    {
     "name": "stderr",
     "output_type": "stream",
     "text": [
      "/var/folders/bq/hl737msd54q59fzf7spf0r7h0000gn/T/ipykernel_74458/1770717913.py:47: DeprecationWarning: `np.int` is a deprecated alias for the builtin `int`. To silence this warning, use `int` by itself. Doing this will not modify any behavior and is safe. When replacing `np.int`, you may wish to use e.g. `np.int64` or `np.int32` to specify the precision. If you wish to review your current use, check the release note link for additional information.\n",
      "Deprecated in NumPy 1.20; for more details and guidance: https://numpy.org/devdocs/release/1.20.0-notes.html#deprecations\n",
      "  cut = np.int(sig_length*fs)\n"
     ]
    },
    {
     "name": "stdout",
     "output_type": "stream",
     "text": [
      "Analyzing Avlanches of data/input/continuous/sub3-day4-mindfulness-raw.fif\n",
      "Opening raw data file data/input/continuous/sub3-day4-mindfulness-raw.fif...\n",
      "    Range : 14019 ... 343136 =     54.762 ...  1340.375 secs\n",
      "Ready.\n",
      "Reading 0 ... 329117  =      0.000 ...  1285.613 secs...\n",
      "Setting channel interpolation method to {'eeg': 'spline'}.\n",
      "Interpolating bad channels.\n",
      "    Automatic origin fit: head of radius 95.7 mm\n",
      "Computing interpolation matrix from 25 sensor positions\n",
      "Interpolating 7 sensors\n",
      "NOTE: pick_types() is a legacy function. New code should use inst.pick(...).\n"
     ]
    },
    {
     "name": "stderr",
     "output_type": "stream",
     "text": [
      "/var/folders/bq/hl737msd54q59fzf7spf0r7h0000gn/T/ipykernel_74458/1770717913.py:47: DeprecationWarning: `np.int` is a deprecated alias for the builtin `int`. To silence this warning, use `int` by itself. Doing this will not modify any behavior and is safe. When replacing `np.int`, you may wish to use e.g. `np.int64` or `np.int32` to specify the precision. If you wish to review your current use, check the release note link for additional information.\n",
      "Deprecated in NumPy 1.20; for more details and guidance: https://numpy.org/devdocs/release/1.20.0-notes.html#deprecations\n",
      "  cut = np.int(sig_length*fs)\n"
     ]
    },
    {
     "name": "stdout",
     "output_type": "stream",
     "text": [
      "Analyzing Avlanches of data/input/continuous/sub4-day1-jhana-raw.fif\n",
      "Opening raw data file data/input/continuous/sub4-day1-jhana-raw.fif...\n",
      "    Range : 4397 ... 342958 =     17.176 ...  1339.680 secs\n",
      "Ready.\n",
      "Reading 0 ... 338561  =      0.000 ...  1322.504 secs...\n",
      "Setting channel interpolation method to {'eeg': 'spline'}.\n",
      "Interpolating bad channels.\n",
      "    Automatic origin fit: head of radius 95.7 mm\n",
      "Computing interpolation matrix from 24 sensor positions\n",
      "Interpolating 8 sensors\n",
      "NOTE: pick_types() is a legacy function. New code should use inst.pick(...).\n"
     ]
    },
    {
     "name": "stderr",
     "output_type": "stream",
     "text": [
      "/var/folders/bq/hl737msd54q59fzf7spf0r7h0000gn/T/ipykernel_74458/1770717913.py:47: DeprecationWarning: `np.int` is a deprecated alias for the builtin `int`. To silence this warning, use `int` by itself. Doing this will not modify any behavior and is safe. When replacing `np.int`, you may wish to use e.g. `np.int64` or `np.int32` to specify the precision. If you wish to review your current use, check the release note link for additional information.\n",
      "Deprecated in NumPy 1.20; for more details and guidance: https://numpy.org/devdocs/release/1.20.0-notes.html#deprecations\n",
      "  cut = np.int(sig_length*fs)\n"
     ]
    },
    {
     "name": "stdout",
     "output_type": "stream",
     "text": [
      "Analyzing Avlanches of data/input/continuous/sub4-day1-mindfulness-raw.fif\n",
      "Opening raw data file data/input/continuous/sub4-day1-mindfulness-raw.fif...\n",
      "    Range : 512 ... 285747 =      2.000 ...  1116.199 secs\n",
      "Ready.\n",
      "Reading 0 ... 285235  =      0.000 ...  1114.199 secs...\n",
      "Setting channel interpolation method to {'eeg': 'spline'}.\n",
      "Interpolating bad channels.\n",
      "    Automatic origin fit: head of radius 95.7 mm\n",
      "Computing interpolation matrix from 24 sensor positions\n",
      "Interpolating 8 sensors\n",
      "NOTE: pick_types() is a legacy function. New code should use inst.pick(...).\n"
     ]
    },
    {
     "name": "stderr",
     "output_type": "stream",
     "text": [
      "/var/folders/bq/hl737msd54q59fzf7spf0r7h0000gn/T/ipykernel_74458/1770717913.py:47: DeprecationWarning: `np.int` is a deprecated alias for the builtin `int`. To silence this warning, use `int` by itself. Doing this will not modify any behavior and is safe. When replacing `np.int`, you may wish to use e.g. `np.int64` or `np.int32` to specify the precision. If you wish to review your current use, check the release note link for additional information.\n",
      "Deprecated in NumPy 1.20; for more details and guidance: https://numpy.org/devdocs/release/1.20.0-notes.html#deprecations\n",
      "  cut = np.int(sig_length*fs)\n"
     ]
    },
    {
     "name": "stdout",
     "output_type": "stream",
     "text": [
      "Analyzing Avlanches of data/input/continuous/sub4-day2-jhana-raw.fif\n",
      "Opening raw data file data/input/continuous/sub4-day2-jhana-raw.fif...\n",
      "    Range : 512 ... 318026 =      2.000 ...  1242.289 secs\n",
      "Ready.\n",
      "Reading 0 ... 317514  =      0.000 ...  1240.289 secs...\n",
      "Setting channel interpolation method to {'eeg': 'spline'}.\n",
      "Interpolating bad channels.\n",
      "    Automatic origin fit: head of radius 95.7 mm\n",
      "Computing interpolation matrix from 30 sensor positions\n",
      "Interpolating 2 sensors\n",
      "NOTE: pick_types() is a legacy function. New code should use inst.pick(...).\n"
     ]
    },
    {
     "name": "stderr",
     "output_type": "stream",
     "text": [
      "/var/folders/bq/hl737msd54q59fzf7spf0r7h0000gn/T/ipykernel_74458/1770717913.py:47: DeprecationWarning: `np.int` is a deprecated alias for the builtin `int`. To silence this warning, use `int` by itself. Doing this will not modify any behavior and is safe. When replacing `np.int`, you may wish to use e.g. `np.int64` or `np.int32` to specify the precision. If you wish to review your current use, check the release note link for additional information.\n",
      "Deprecated in NumPy 1.20; for more details and guidance: https://numpy.org/devdocs/release/1.20.0-notes.html#deprecations\n",
      "  cut = np.int(sig_length*fs)\n"
     ]
    },
    {
     "name": "stdout",
     "output_type": "stream",
     "text": [
      "Analyzing Avlanches of data/input/continuous/sub4-day2-mindfulness-raw.fif\n",
      "Opening raw data file data/input/continuous/sub4-day2-mindfulness-raw.fif...\n",
      "    Range : 512 ... 286992 =      2.000 ...  1121.062 secs\n",
      "Ready.\n",
      "Reading 0 ... 286480  =      0.000 ...  1119.062 secs...\n",
      "Setting channel interpolation method to {'eeg': 'spline'}.\n",
      "Interpolating bad channels.\n",
      "    Automatic origin fit: head of radius 95.7 mm\n",
      "Computing interpolation matrix from 29 sensor positions\n",
      "Interpolating 3 sensors\n",
      "NOTE: pick_types() is a legacy function. New code should use inst.pick(...).\n"
     ]
    },
    {
     "name": "stderr",
     "output_type": "stream",
     "text": [
      "/var/folders/bq/hl737msd54q59fzf7spf0r7h0000gn/T/ipykernel_74458/1770717913.py:47: DeprecationWarning: `np.int` is a deprecated alias for the builtin `int`. To silence this warning, use `int` by itself. Doing this will not modify any behavior and is safe. When replacing `np.int`, you may wish to use e.g. `np.int64` or `np.int32` to specify the precision. If you wish to review your current use, check the release note link for additional information.\n",
      "Deprecated in NumPy 1.20; for more details and guidance: https://numpy.org/devdocs/release/1.20.0-notes.html#deprecations\n",
      "  cut = np.int(sig_length*fs)\n"
     ]
    },
    {
     "name": "stdout",
     "output_type": "stream",
     "text": [
      "Analyzing Avlanches of data/input/continuous/sub4-day3-jhana-raw.fif\n",
      "Opening raw data file data/input/continuous/sub4-day3-jhana-raw.fif...\n",
      "    Range : 256 ... 350320 =      1.000 ...  1368.438 secs\n",
      "Ready.\n",
      "Reading 0 ... 350064  =      0.000 ...  1367.438 secs...\n",
      "Setting channel interpolation method to {'eeg': 'spline'}.\n",
      "Interpolating bad channels.\n",
      "    Automatic origin fit: head of radius 95.7 mm\n",
      "Computing interpolation matrix from 27 sensor positions\n",
      "Interpolating 5 sensors\n",
      "NOTE: pick_types() is a legacy function. New code should use inst.pick(...).\n"
     ]
    },
    {
     "name": "stderr",
     "output_type": "stream",
     "text": [
      "/var/folders/bq/hl737msd54q59fzf7spf0r7h0000gn/T/ipykernel_74458/1770717913.py:47: DeprecationWarning: `np.int` is a deprecated alias for the builtin `int`. To silence this warning, use `int` by itself. Doing this will not modify any behavior and is safe. When replacing `np.int`, you may wish to use e.g. `np.int64` or `np.int32` to specify the precision. If you wish to review your current use, check the release note link for additional information.\n",
      "Deprecated in NumPy 1.20; for more details and guidance: https://numpy.org/devdocs/release/1.20.0-notes.html#deprecations\n",
      "  cut = np.int(sig_length*fs)\n"
     ]
    },
    {
     "name": "stdout",
     "output_type": "stream",
     "text": [
      "Analyzing Avlanches of data/input/continuous/sub4-day3-mindfulness-raw.fif\n",
      "Opening raw data file data/input/continuous/sub4-day3-mindfulness-raw.fif...\n",
      "    Range : 4358 ... 242514 =     17.023 ...   947.320 secs\n",
      "Ready.\n",
      "Reading 0 ... 238156  =      0.000 ...   930.297 secs...\n",
      "Setting channel interpolation method to {'eeg': 'spline'}.\n",
      "Interpolating bad channels.\n",
      "    Automatic origin fit: head of radius 95.7 mm\n",
      "Computing interpolation matrix from 27 sensor positions\n",
      "Interpolating 5 sensors\n",
      "NOTE: pick_types() is a legacy function. New code should use inst.pick(...).\n"
     ]
    },
    {
     "name": "stderr",
     "output_type": "stream",
     "text": [
      "/var/folders/bq/hl737msd54q59fzf7spf0r7h0000gn/T/ipykernel_74458/1770717913.py:47: DeprecationWarning: `np.int` is a deprecated alias for the builtin `int`. To silence this warning, use `int` by itself. Doing this will not modify any behavior and is safe. When replacing `np.int`, you may wish to use e.g. `np.int64` or `np.int32` to specify the precision. If you wish to review your current use, check the release note link for additional information.\n",
      "Deprecated in NumPy 1.20; for more details and guidance: https://numpy.org/devdocs/release/1.20.0-notes.html#deprecations\n",
      "  cut = np.int(sig_length*fs)\n"
     ]
    },
    {
     "name": "stdout",
     "output_type": "stream",
     "text": [
      "Analyzing Avlanches of data/input/continuous/sub4-day4-jhana-raw.fif\n",
      "Opening raw data file data/input/continuous/sub4-day4-jhana-raw.fif...\n",
      "    Range : 3368 ... 292056 =     13.156 ...  1140.844 secs\n",
      "Ready.\n",
      "Reading 0 ... 288688  =      0.000 ...  1127.688 secs...\n",
      "Setting channel interpolation method to {'eeg': 'spline'}.\n",
      "Interpolating bad channels.\n",
      "    Automatic origin fit: head of radius 95.7 mm\n",
      "Computing interpolation matrix from 16 sensor positions\n",
      "Interpolating 16 sensors\n",
      "NOTE: pick_types() is a legacy function. New code should use inst.pick(...).\n"
     ]
    },
    {
     "name": "stderr",
     "output_type": "stream",
     "text": [
      "/var/folders/bq/hl737msd54q59fzf7spf0r7h0000gn/T/ipykernel_74458/1770717913.py:47: DeprecationWarning: `np.int` is a deprecated alias for the builtin `int`. To silence this warning, use `int` by itself. Doing this will not modify any behavior and is safe. When replacing `np.int`, you may wish to use e.g. `np.int64` or `np.int32` to specify the precision. If you wish to review your current use, check the release note link for additional information.\n",
      "Deprecated in NumPy 1.20; for more details and guidance: https://numpy.org/devdocs/release/1.20.0-notes.html#deprecations\n",
      "  cut = np.int(sig_length*fs)\n"
     ]
    },
    {
     "name": "stdout",
     "output_type": "stream",
     "text": [
      "Analyzing Avlanches of data/input/continuous/sub4-day4-mindfulness-raw.fif\n",
      "Opening raw data file data/input/continuous/sub4-day4-mindfulness-raw.fif...\n",
      "    Range : 768 ... 189701 =      3.000 ...   741.020 secs\n",
      "Ready.\n",
      "Reading 0 ... 188933  =      0.000 ...   738.020 secs...\n",
      "Setting channel interpolation method to {'eeg': 'spline'}.\n",
      "Interpolating bad channels.\n",
      "    Automatic origin fit: head of radius 95.7 mm\n",
      "Computing interpolation matrix from 13 sensor positions\n",
      "Interpolating 19 sensors\n",
      "NOTE: pick_types() is a legacy function. New code should use inst.pick(...).\n"
     ]
    },
    {
     "name": "stderr",
     "output_type": "stream",
     "text": [
      "/var/folders/bq/hl737msd54q59fzf7spf0r7h0000gn/T/ipykernel_74458/1770717913.py:47: DeprecationWarning: `np.int` is a deprecated alias for the builtin `int`. To silence this warning, use `int` by itself. Doing this will not modify any behavior and is safe. When replacing `np.int`, you may wish to use e.g. `np.int64` or `np.int32` to specify the precision. If you wish to review your current use, check the release note link for additional information.\n",
      "Deprecated in NumPy 1.20; for more details and guidance: https://numpy.org/devdocs/release/1.20.0-notes.html#deprecations\n",
      "  cut = np.int(sig_length*fs)\n"
     ]
    },
    {
     "name": "stdout",
     "output_type": "stream",
     "text": [
      "Analyzing Avlanches of data/input/continuous/sub5-day1-jhana-raw.fif\n",
      "Opening raw data file data/input/continuous/sub5-day1-jhana-raw.fif...\n",
      "    Range : 2452 ... 244210 =      9.578 ...   953.945 secs\n",
      "Ready.\n",
      "Reading 0 ... 241758  =      0.000 ...   944.367 secs...\n",
      "Setting channel interpolation method to {'eeg': 'spline'}.\n",
      "Interpolating bad channels.\n",
      "    Automatic origin fit: head of radius 95.7 mm\n",
      "Computing interpolation matrix from 22 sensor positions\n",
      "Interpolating 10 sensors\n",
      "NOTE: pick_types() is a legacy function. New code should use inst.pick(...).\n"
     ]
    },
    {
     "name": "stderr",
     "output_type": "stream",
     "text": [
      "/var/folders/bq/hl737msd54q59fzf7spf0r7h0000gn/T/ipykernel_74458/1770717913.py:47: DeprecationWarning: `np.int` is a deprecated alias for the builtin `int`. To silence this warning, use `int` by itself. Doing this will not modify any behavior and is safe. When replacing `np.int`, you may wish to use e.g. `np.int64` or `np.int32` to specify the precision. If you wish to review your current use, check the release note link for additional information.\n",
      "Deprecated in NumPy 1.20; for more details and guidance: https://numpy.org/devdocs/release/1.20.0-notes.html#deprecations\n",
      "  cut = np.int(sig_length*fs)\n"
     ]
    },
    {
     "name": "stdout",
     "output_type": "stream",
     "text": [
      "Analyzing Avlanches of data/input/continuous/sub5-day1-mindfulness-raw.fif\n",
      "Opening raw data file data/input/continuous/sub5-day1-mindfulness-raw.fif...\n",
      "    Range : 5697 ... 284402 =     22.254 ...  1110.945 secs\n",
      "Ready.\n",
      "Reading 0 ... 278705  =      0.000 ...  1088.691 secs...\n",
      "Setting channel interpolation method to {'eeg': 'spline'}.\n",
      "Interpolating bad channels.\n",
      "    Automatic origin fit: head of radius 95.7 mm\n",
      "Computing interpolation matrix from 23 sensor positions\n",
      "Interpolating 9 sensors\n",
      "NOTE: pick_types() is a legacy function. New code should use inst.pick(...).\n"
     ]
    },
    {
     "name": "stderr",
     "output_type": "stream",
     "text": [
      "/var/folders/bq/hl737msd54q59fzf7spf0r7h0000gn/T/ipykernel_74458/1770717913.py:47: DeprecationWarning: `np.int` is a deprecated alias for the builtin `int`. To silence this warning, use `int` by itself. Doing this will not modify any behavior and is safe. When replacing `np.int`, you may wish to use e.g. `np.int64` or `np.int32` to specify the precision. If you wish to review your current use, check the release note link for additional information.\n",
      "Deprecated in NumPy 1.20; for more details and guidance: https://numpy.org/devdocs/release/1.20.0-notes.html#deprecations\n",
      "  cut = np.int(sig_length*fs)\n"
     ]
    },
    {
     "name": "stdout",
     "output_type": "stream",
     "text": [
      "Analyzing Avlanches of data/input/continuous/sub5-day2-jhana-raw.fif\n",
      "Opening raw data file data/input/continuous/sub5-day2-jhana-raw.fif...\n",
      "    Range : 2877 ... 340425 =     11.238 ...  1329.785 secs\n",
      "Ready.\n",
      "Reading 0 ... 337548  =      0.000 ...  1318.547 secs...\n",
      "Setting channel interpolation method to {'eeg': 'spline'}.\n",
      "Interpolating bad channels.\n",
      "    Automatic origin fit: head of radius 95.7 mm\n",
      "Computing interpolation matrix from 30 sensor positions\n",
      "Interpolating 2 sensors\n",
      "NOTE: pick_types() is a legacy function. New code should use inst.pick(...).\n"
     ]
    },
    {
     "name": "stderr",
     "output_type": "stream",
     "text": [
      "/var/folders/bq/hl737msd54q59fzf7spf0r7h0000gn/T/ipykernel_74458/1770717913.py:47: DeprecationWarning: `np.int` is a deprecated alias for the builtin `int`. To silence this warning, use `int` by itself. Doing this will not modify any behavior and is safe. When replacing `np.int`, you may wish to use e.g. `np.int64` or `np.int32` to specify the precision. If you wish to review your current use, check the release note link for additional information.\n",
      "Deprecated in NumPy 1.20; for more details and guidance: https://numpy.org/devdocs/release/1.20.0-notes.html#deprecations\n",
      "  cut = np.int(sig_length*fs)\n"
     ]
    },
    {
     "name": "stdout",
     "output_type": "stream",
     "text": [
      "Analyzing Avlanches of data/input/continuous/sub5-day2-mindfulness-raw.fif\n",
      "Opening raw data file data/input/continuous/sub5-day2-mindfulness-raw.fif...\n",
      "    Range : 2452 ... 286397 =      9.578 ...  1118.738 secs\n",
      "Ready.\n",
      "Reading 0 ... 283945  =      0.000 ...  1109.160 secs...\n",
      "Setting channel interpolation method to {'eeg': 'spline'}.\n",
      "Interpolating bad channels.\n",
      "    Automatic origin fit: head of radius 95.7 mm\n",
      "Computing interpolation matrix from 29 sensor positions\n",
      "Interpolating 3 sensors\n",
      "NOTE: pick_types() is a legacy function. New code should use inst.pick(...).\n"
     ]
    },
    {
     "name": "stderr",
     "output_type": "stream",
     "text": [
      "/var/folders/bq/hl737msd54q59fzf7spf0r7h0000gn/T/ipykernel_74458/1770717913.py:47: DeprecationWarning: `np.int` is a deprecated alias for the builtin `int`. To silence this warning, use `int` by itself. Doing this will not modify any behavior and is safe. When replacing `np.int`, you may wish to use e.g. `np.int64` or `np.int32` to specify the precision. If you wish to review your current use, check the release note link for additional information.\n",
      "Deprecated in NumPy 1.20; for more details and guidance: https://numpy.org/devdocs/release/1.20.0-notes.html#deprecations\n",
      "  cut = np.int(sig_length*fs)\n"
     ]
    },
    {
     "name": "stdout",
     "output_type": "stream",
     "text": [
      "Analyzing Avlanches of data/input/continuous/sub5-day3-jhana-raw.fif\n",
      "Opening raw data file data/input/continuous/sub5-day3-jhana-raw.fif...\n",
      "    Range : 1594 ... 337298 =      6.227 ...  1317.570 secs\n",
      "Ready.\n",
      "Reading 0 ... 335704  =      0.000 ...  1311.344 secs...\n",
      "Setting channel interpolation method to {'eeg': 'spline'}.\n",
      "Interpolating bad channels.\n",
      "    Automatic origin fit: head of radius 95.7 mm\n",
      "Computing interpolation matrix from 27 sensor positions\n",
      "Interpolating 5 sensors\n",
      "NOTE: pick_types() is a legacy function. New code should use inst.pick(...).\n"
     ]
    },
    {
     "name": "stderr",
     "output_type": "stream",
     "text": [
      "/var/folders/bq/hl737msd54q59fzf7spf0r7h0000gn/T/ipykernel_74458/1770717913.py:47: DeprecationWarning: `np.int` is a deprecated alias for the builtin `int`. To silence this warning, use `int` by itself. Doing this will not modify any behavior and is safe. When replacing `np.int`, you may wish to use e.g. `np.int64` or `np.int32` to specify the precision. If you wish to review your current use, check the release note link for additional information.\n",
      "Deprecated in NumPy 1.20; for more details and guidance: https://numpy.org/devdocs/release/1.20.0-notes.html#deprecations\n",
      "  cut = np.int(sig_length*fs)\n"
     ]
    },
    {
     "name": "stdout",
     "output_type": "stream",
     "text": [
      "Analyzing Avlanches of data/input/continuous/sub5-day3-mindfulness-raw.fif\n",
      "Opening raw data file data/input/continuous/sub5-day3-mindfulness-raw.fif...\n",
      "    Range : 5592 ... 290679 =     21.844 ...  1135.465 secs\n",
      "Ready.\n",
      "Reading 0 ... 285087  =      0.000 ...  1113.621 secs...\n",
      "Setting channel interpolation method to {'eeg': 'spline'}.\n",
      "Interpolating bad channels.\n",
      "    Automatic origin fit: head of radius 95.7 mm\n",
      "Computing interpolation matrix from 27 sensor positions\n",
      "Interpolating 5 sensors\n",
      "NOTE: pick_types() is a legacy function. New code should use inst.pick(...).\n"
     ]
    },
    {
     "name": "stderr",
     "output_type": "stream",
     "text": [
      "/var/folders/bq/hl737msd54q59fzf7spf0r7h0000gn/T/ipykernel_74458/1770717913.py:47: DeprecationWarning: `np.int` is a deprecated alias for the builtin `int`. To silence this warning, use `int` by itself. Doing this will not modify any behavior and is safe. When replacing `np.int`, you may wish to use e.g. `np.int64` or `np.int32` to specify the precision. If you wish to review your current use, check the release note link for additional information.\n",
      "Deprecated in NumPy 1.20; for more details and guidance: https://numpy.org/devdocs/release/1.20.0-notes.html#deprecations\n",
      "  cut = np.int(sig_length*fs)\n"
     ]
    },
    {
     "name": "stdout",
     "output_type": "stream",
     "text": [
      "Analyzing Avlanches of data/input/continuous/sub5-day4-jhana-raw.fif\n",
      "Opening raw data file data/input/continuous/sub5-day4-jhana-raw.fif...\n",
      "    Range : 256 ... 371820 =      1.000 ...  1452.422 secs\n",
      "Ready.\n",
      "Reading 0 ... 371564  =      0.000 ...  1451.422 secs...\n",
      "Setting channel interpolation method to {'eeg': 'spline'}.\n",
      "Interpolating bad channels.\n",
      "    Automatic origin fit: head of radius 95.7 mm\n",
      "Computing interpolation matrix from 29 sensor positions\n",
      "Interpolating 3 sensors\n",
      "NOTE: pick_types() is a legacy function. New code should use inst.pick(...).\n"
     ]
    },
    {
     "name": "stderr",
     "output_type": "stream",
     "text": [
      "/var/folders/bq/hl737msd54q59fzf7spf0r7h0000gn/T/ipykernel_74458/1770717913.py:47: DeprecationWarning: `np.int` is a deprecated alias for the builtin `int`. To silence this warning, use `int` by itself. Doing this will not modify any behavior and is safe. When replacing `np.int`, you may wish to use e.g. `np.int64` or `np.int32` to specify the precision. If you wish to review your current use, check the release note link for additional information.\n",
      "Deprecated in NumPy 1.20; for more details and guidance: https://numpy.org/devdocs/release/1.20.0-notes.html#deprecations\n",
      "  cut = np.int(sig_length*fs)\n"
     ]
    },
    {
     "name": "stdout",
     "output_type": "stream",
     "text": [
      "Analyzing Avlanches of data/input/continuous/sub5-day4-mindfulness-raw.fif\n",
      "Opening raw data file data/input/continuous/sub5-day4-mindfulness-raw.fif...\n",
      "    Range : 2106 ... 371882 =      8.227 ...  1452.664 secs\n",
      "Ready.\n",
      "Reading 0 ... 369776  =      0.000 ...  1444.438 secs...\n",
      "Setting channel interpolation method to {'eeg': 'spline'}.\n",
      "Interpolating bad channels.\n",
      "    Automatic origin fit: head of radius 95.7 mm\n",
      "Computing interpolation matrix from 26 sensor positions\n",
      "Interpolating 6 sensors\n",
      "NOTE: pick_types() is a legacy function. New code should use inst.pick(...).\n"
     ]
    },
    {
     "name": "stderr",
     "output_type": "stream",
     "text": [
      "/var/folders/bq/hl737msd54q59fzf7spf0r7h0000gn/T/ipykernel_74458/1770717913.py:47: DeprecationWarning: `np.int` is a deprecated alias for the builtin `int`. To silence this warning, use `int` by itself. Doing this will not modify any behavior and is safe. When replacing `np.int`, you may wish to use e.g. `np.int64` or `np.int32` to specify the precision. If you wish to review your current use, check the release note link for additional information.\n",
      "Deprecated in NumPy 1.20; for more details and guidance: https://numpy.org/devdocs/release/1.20.0-notes.html#deprecations\n",
      "  cut = np.int(sig_length*fs)\n"
     ]
    },
    {
     "name": "stdout",
     "output_type": "stream",
     "text": [
      "Analyzing Avlanches of data/input/continuous/sub6-day1-jhana-raw.fif\n",
      "Opening raw data file data/input/continuous/sub6-day1-jhana-raw.fif...\n",
      "    Range : 12148 ... 352680 =     47.453 ...  1377.656 secs\n",
      "Ready.\n",
      "Reading 0 ... 340532  =      0.000 ...  1330.203 secs...\n",
      "Setting channel interpolation method to {'eeg': 'spline'}.\n",
      "Interpolating bad channels.\n",
      "    Automatic origin fit: head of radius 95.7 mm\n",
      "Computing interpolation matrix from 30 sensor positions\n",
      "Interpolating 2 sensors\n",
      "NOTE: pick_types() is a legacy function. New code should use inst.pick(...).\n"
     ]
    },
    {
     "name": "stderr",
     "output_type": "stream",
     "text": [
      "/var/folders/bq/hl737msd54q59fzf7spf0r7h0000gn/T/ipykernel_74458/1770717913.py:47: DeprecationWarning: `np.int` is a deprecated alias for the builtin `int`. To silence this warning, use `int` by itself. Doing this will not modify any behavior and is safe. When replacing `np.int`, you may wish to use e.g. `np.int64` or `np.int32` to specify the precision. If you wish to review your current use, check the release note link for additional information.\n",
      "Deprecated in NumPy 1.20; for more details and guidance: https://numpy.org/devdocs/release/1.20.0-notes.html#deprecations\n",
      "  cut = np.int(sig_length*fs)\n"
     ]
    },
    {
     "name": "stdout",
     "output_type": "stream",
     "text": [
      "Analyzing Avlanches of data/input/continuous/sub6-day1-mindfulness-raw.fif\n",
      "Opening raw data file data/input/continuous/sub6-day1-mindfulness-raw.fif...\n",
      "    Range : 768 ... 185187 =      3.000 ...   723.387 secs\n",
      "Ready.\n",
      "Reading 0 ... 184419  =      0.000 ...   720.387 secs...\n",
      "Setting channel interpolation method to {'eeg': 'spline'}.\n",
      "Interpolating bad channels.\n",
      "    Automatic origin fit: head of radius 95.7 mm\n",
      "Computing interpolation matrix from 30 sensor positions\n",
      "Interpolating 2 sensors\n",
      "NOTE: pick_types() is a legacy function. New code should use inst.pick(...).\n"
     ]
    },
    {
     "name": "stderr",
     "output_type": "stream",
     "text": [
      "/var/folders/bq/hl737msd54q59fzf7spf0r7h0000gn/T/ipykernel_74458/1770717913.py:47: DeprecationWarning: `np.int` is a deprecated alias for the builtin `int`. To silence this warning, use `int` by itself. Doing this will not modify any behavior and is safe. When replacing `np.int`, you may wish to use e.g. `np.int64` or `np.int32` to specify the precision. If you wish to review your current use, check the release note link for additional information.\n",
      "Deprecated in NumPy 1.20; for more details and guidance: https://numpy.org/devdocs/release/1.20.0-notes.html#deprecations\n",
      "  cut = np.int(sig_length*fs)\n"
     ]
    },
    {
     "name": "stdout",
     "output_type": "stream",
     "text": [
      "Analyzing Avlanches of data/input/continuous/sub6-day2-jhana-raw.fif\n",
      "Opening raw data file data/input/continuous/sub6-day2-jhana-raw.fif...\n",
      "    Range : 4648 ... 328833 =     18.156 ...  1284.504 secs\n",
      "Ready.\n",
      "Reading 0 ... 324185  =      0.000 ...  1266.348 secs...\n",
      "Setting channel interpolation method to {'eeg': 'spline'}.\n",
      "Interpolating bad channels.\n",
      "    Automatic origin fit: head of radius 95.7 mm\n",
      "Computing interpolation matrix from 29 sensor positions\n",
      "Interpolating 3 sensors\n",
      "NOTE: pick_types() is a legacy function. New code should use inst.pick(...).\n"
     ]
    },
    {
     "name": "stderr",
     "output_type": "stream",
     "text": [
      "/var/folders/bq/hl737msd54q59fzf7spf0r7h0000gn/T/ipykernel_74458/1770717913.py:47: DeprecationWarning: `np.int` is a deprecated alias for the builtin `int`. To silence this warning, use `int` by itself. Doing this will not modify any behavior and is safe. When replacing `np.int`, you may wish to use e.g. `np.int64` or `np.int32` to specify the precision. If you wish to review your current use, check the release note link for additional information.\n",
      "Deprecated in NumPy 1.20; for more details and guidance: https://numpy.org/devdocs/release/1.20.0-notes.html#deprecations\n",
      "  cut = np.int(sig_length*fs)\n"
     ]
    },
    {
     "name": "stdout",
     "output_type": "stream",
     "text": [
      "Analyzing Avlanches of data/input/continuous/sub6-day2-mindfulness-raw.fif\n",
      "Opening raw data file data/input/continuous/sub6-day2-mindfulness-raw.fif...\n",
      "    Range : 1228 ... 336487 =      4.797 ...  1314.402 secs\n",
      "Ready.\n",
      "Reading 0 ... 335259  =      0.000 ...  1309.605 secs...\n",
      "Setting channel interpolation method to {'eeg': 'spline'}.\n",
      "Interpolating bad channels.\n",
      "    Automatic origin fit: head of radius 95.7 mm\n",
      "Computing interpolation matrix from 30 sensor positions\n",
      "Interpolating 2 sensors\n",
      "NOTE: pick_types() is a legacy function. New code should use inst.pick(...).\n"
     ]
    },
    {
     "name": "stderr",
     "output_type": "stream",
     "text": [
      "/var/folders/bq/hl737msd54q59fzf7spf0r7h0000gn/T/ipykernel_74458/1770717913.py:47: DeprecationWarning: `np.int` is a deprecated alias for the builtin `int`. To silence this warning, use `int` by itself. Doing this will not modify any behavior and is safe. When replacing `np.int`, you may wish to use e.g. `np.int64` or `np.int32` to specify the precision. If you wish to review your current use, check the release note link for additional information.\n",
      "Deprecated in NumPy 1.20; for more details and guidance: https://numpy.org/devdocs/release/1.20.0-notes.html#deprecations\n",
      "  cut = np.int(sig_length*fs)\n"
     ]
    },
    {
     "name": "stdout",
     "output_type": "stream",
     "text": [
      "Analyzing Avlanches of data/input/continuous/sub6-day3-jhana-raw.fif\n",
      "Opening raw data file data/input/continuous/sub6-day3-jhana-raw.fif...\n",
      "    Range : 2872 ... 318852 =     11.219 ...  1245.516 secs\n",
      "Ready.\n",
      "Reading 0 ... 315980  =      0.000 ...  1234.297 secs...\n",
      "Setting channel interpolation method to {'eeg': 'spline'}.\n",
      "Interpolating bad channels.\n",
      "    Automatic origin fit: head of radius 95.7 mm\n",
      "Computing interpolation matrix from 28 sensor positions\n",
      "Interpolating 4 sensors\n",
      "NOTE: pick_types() is a legacy function. New code should use inst.pick(...).\n"
     ]
    },
    {
     "name": "stderr",
     "output_type": "stream",
     "text": [
      "/var/folders/bq/hl737msd54q59fzf7spf0r7h0000gn/T/ipykernel_74458/1770717913.py:47: DeprecationWarning: `np.int` is a deprecated alias for the builtin `int`. To silence this warning, use `int` by itself. Doing this will not modify any behavior and is safe. When replacing `np.int`, you may wish to use e.g. `np.int64` or `np.int32` to specify the precision. If you wish to review your current use, check the release note link for additional information.\n",
      "Deprecated in NumPy 1.20; for more details and guidance: https://numpy.org/devdocs/release/1.20.0-notes.html#deprecations\n",
      "  cut = np.int(sig_length*fs)\n"
     ]
    },
    {
     "name": "stdout",
     "output_type": "stream",
     "text": [
      "Analyzing Avlanches of data/input/continuous/sub6-day3-mindfulness-raw.fif\n",
      "Opening raw data file data/input/continuous/sub6-day3-mindfulness-raw.fif...\n",
      "    Range : 256 ... 346469 =      1.000 ...  1353.395 secs\n",
      "Ready.\n",
      "Reading 0 ... 346213  =      0.000 ...  1352.395 secs...\n",
      "Setting channel interpolation method to {'eeg': 'spline'}.\n",
      "Interpolating bad channels.\n",
      "    Automatic origin fit: head of radius 95.7 mm\n",
      "Computing interpolation matrix from 30 sensor positions\n",
      "Interpolating 2 sensors\n",
      "NOTE: pick_types() is a legacy function. New code should use inst.pick(...).\n"
     ]
    },
    {
     "name": "stderr",
     "output_type": "stream",
     "text": [
      "/var/folders/bq/hl737msd54q59fzf7spf0r7h0000gn/T/ipykernel_74458/1770717913.py:47: DeprecationWarning: `np.int` is a deprecated alias for the builtin `int`. To silence this warning, use `int` by itself. Doing this will not modify any behavior and is safe. When replacing `np.int`, you may wish to use e.g. `np.int64` or `np.int32` to specify the precision. If you wish to review your current use, check the release note link for additional information.\n",
      "Deprecated in NumPy 1.20; for more details and guidance: https://numpy.org/devdocs/release/1.20.0-notes.html#deprecations\n",
      "  cut = np.int(sig_length*fs)\n"
     ]
    },
    {
     "name": "stdout",
     "output_type": "stream",
     "text": [
      "Analyzing Avlanches of data/input/continuous/sub6-day4-jhana-raw.fif\n",
      "Opening raw data file data/input/continuous/sub6-day4-jhana-raw.fif...\n",
      "    Range : 256 ... 376070 =      1.000 ...  1469.023 secs\n",
      "Ready.\n",
      "Reading 0 ... 375814  =      0.000 ...  1468.023 secs...\n",
      "Setting channel interpolation method to {'eeg': 'spline'}.\n",
      "Interpolating bad channels.\n",
      "    Automatic origin fit: head of radius 95.7 mm\n",
      "Computing interpolation matrix from 28 sensor positions\n",
      "Interpolating 4 sensors\n",
      "NOTE: pick_types() is a legacy function. New code should use inst.pick(...).\n"
     ]
    },
    {
     "name": "stderr",
     "output_type": "stream",
     "text": [
      "/var/folders/bq/hl737msd54q59fzf7spf0r7h0000gn/T/ipykernel_74458/1770717913.py:47: DeprecationWarning: `np.int` is a deprecated alias for the builtin `int`. To silence this warning, use `int` by itself. Doing this will not modify any behavior and is safe. When replacing `np.int`, you may wish to use e.g. `np.int64` or `np.int32` to specify the precision. If you wish to review your current use, check the release note link for additional information.\n",
      "Deprecated in NumPy 1.20; for more details and guidance: https://numpy.org/devdocs/release/1.20.0-notes.html#deprecations\n",
      "  cut = np.int(sig_length*fs)\n"
     ]
    },
    {
     "name": "stdout",
     "output_type": "stream",
     "text": [
      "Analyzing Avlanches of data/input/continuous/sub6-day4-mindfulness-raw.fif\n",
      "Opening raw data file data/input/continuous/sub6-day4-mindfulness-raw.fif...\n",
      "    Range : 768 ... 381350 =      3.000 ...  1489.648 secs\n",
      "Ready.\n",
      "Reading 0 ... 380582  =      0.000 ...  1486.648 secs...\n",
      "Setting channel interpolation method to {'eeg': 'spline'}.\n",
      "Interpolating bad channels.\n",
      "    Automatic origin fit: head of radius 95.7 mm\n",
      "Computing interpolation matrix from 30 sensor positions\n",
      "Interpolating 2 sensors\n",
      "NOTE: pick_types() is a legacy function. New code should use inst.pick(...).\n"
     ]
    },
    {
     "name": "stderr",
     "output_type": "stream",
     "text": [
      "/var/folders/bq/hl737msd54q59fzf7spf0r7h0000gn/T/ipykernel_74458/1770717913.py:47: DeprecationWarning: `np.int` is a deprecated alias for the builtin `int`. To silence this warning, use `int` by itself. Doing this will not modify any behavior and is safe. When replacing `np.int`, you may wish to use e.g. `np.int64` or `np.int32` to specify the precision. If you wish to review your current use, check the release note link for additional information.\n",
      "Deprecated in NumPy 1.20; for more details and guidance: https://numpy.org/devdocs/release/1.20.0-notes.html#deprecations\n",
      "  cut = np.int(sig_length*fs)\n"
     ]
    },
    {
     "name": "stdout",
     "output_type": "stream",
     "text": [
      "Analyzing Avlanches of data/input/continuous/sub7-day1-jhana-raw.fif\n",
      "Opening raw data file data/input/continuous/sub7-day1-jhana-raw.fif...\n",
      "    Range : 2777 ... 353563 =     10.848 ...  1381.105 secs\n",
      "Ready.\n",
      "Reading 0 ... 350786  =      0.000 ...  1370.258 secs...\n",
      "Setting channel interpolation method to {'eeg': 'spline'}.\n",
      "Interpolating bad channels.\n",
      "    Automatic origin fit: head of radius 95.7 mm\n",
      "Computing interpolation matrix from 24 sensor positions\n",
      "Interpolating 8 sensors\n",
      "NOTE: pick_types() is a legacy function. New code should use inst.pick(...).\n"
     ]
    },
    {
     "name": "stderr",
     "output_type": "stream",
     "text": [
      "/var/folders/bq/hl737msd54q59fzf7spf0r7h0000gn/T/ipykernel_74458/1770717913.py:47: DeprecationWarning: `np.int` is a deprecated alias for the builtin `int`. To silence this warning, use `int` by itself. Doing this will not modify any behavior and is safe. When replacing `np.int`, you may wish to use e.g. `np.int64` or `np.int32` to specify the precision. If you wish to review your current use, check the release note link for additional information.\n",
      "Deprecated in NumPy 1.20; for more details and guidance: https://numpy.org/devdocs/release/1.20.0-notes.html#deprecations\n",
      "  cut = np.int(sig_length*fs)\n"
     ]
    },
    {
     "name": "stdout",
     "output_type": "stream",
     "text": [
      "Analyzing Avlanches of data/input/continuous/sub7-day1-mindfulness-raw.fif\n",
      "Opening raw data file data/input/continuous/sub7-day1-mindfulness-raw.fif...\n",
      "    Range : 8609 ... 342331 =     33.629 ...  1337.230 secs\n",
      "Ready.\n",
      "Reading 0 ... 333722  =      0.000 ...  1303.602 secs...\n",
      "Setting channel interpolation method to {'eeg': 'spline'}.\n",
      "Interpolating bad channels.\n",
      "    Automatic origin fit: head of radius 95.7 mm\n",
      "Computing interpolation matrix from 24 sensor positions\n",
      "Interpolating 8 sensors\n",
      "NOTE: pick_types() is a legacy function. New code should use inst.pick(...).\n"
     ]
    },
    {
     "name": "stderr",
     "output_type": "stream",
     "text": [
      "/var/folders/bq/hl737msd54q59fzf7spf0r7h0000gn/T/ipykernel_74458/1770717913.py:47: DeprecationWarning: `np.int` is a deprecated alias for the builtin `int`. To silence this warning, use `int` by itself. Doing this will not modify any behavior and is safe. When replacing `np.int`, you may wish to use e.g. `np.int64` or `np.int32` to specify the precision. If you wish to review your current use, check the release note link for additional information.\n",
      "Deprecated in NumPy 1.20; for more details and guidance: https://numpy.org/devdocs/release/1.20.0-notes.html#deprecations\n",
      "  cut = np.int(sig_length*fs)\n"
     ]
    },
    {
     "name": "stdout",
     "output_type": "stream",
     "text": [
      "Analyzing Avlanches of data/input/continuous/sub7-day2-jhana-raw.fif\n",
      "Opening raw data file data/input/continuous/sub7-day2-jhana-raw.fif...\n",
      "    Range : 3822 ... 284618 =     14.930 ...  1111.789 secs\n",
      "Ready.\n",
      "Reading 0 ... 280796  =      0.000 ...  1096.859 secs...\n",
      "Setting channel interpolation method to {'eeg': 'spline'}.\n",
      "Interpolating bad channels.\n",
      "    Automatic origin fit: head of radius 95.7 mm\n",
      "Computing interpolation matrix from 23 sensor positions\n",
      "Interpolating 9 sensors\n",
      "NOTE: pick_types() is a legacy function. New code should use inst.pick(...).\n"
     ]
    },
    {
     "name": "stderr",
     "output_type": "stream",
     "text": [
      "/var/folders/bq/hl737msd54q59fzf7spf0r7h0000gn/T/ipykernel_74458/1770717913.py:47: DeprecationWarning: `np.int` is a deprecated alias for the builtin `int`. To silence this warning, use `int` by itself. Doing this will not modify any behavior and is safe. When replacing `np.int`, you may wish to use e.g. `np.int64` or `np.int32` to specify the precision. If you wish to review your current use, check the release note link for additional information.\n",
      "Deprecated in NumPy 1.20; for more details and guidance: https://numpy.org/devdocs/release/1.20.0-notes.html#deprecations\n",
      "  cut = np.int(sig_length*fs)\n"
     ]
    },
    {
     "name": "stdout",
     "output_type": "stream",
     "text": [
      "Analyzing Avlanches of data/input/continuous/sub7-day2-mindfulness-raw.fif\n",
      "Opening raw data file data/input/continuous/sub7-day2-mindfulness-raw.fif...\n",
      "    Range : 19445 ... 63376 =     75.957 ...   247.562 secs\n",
      "Ready.\n",
      "Reading 0 ... 43931  =      0.000 ...   171.605 secs...\n",
      "Setting channel interpolation method to {'eeg': 'spline'}.\n",
      "NOTE: pick_types() is a legacy function. New code should use inst.pick(...).\n"
     ]
    },
    {
     "name": "stderr",
     "output_type": "stream",
     "text": [
      "/var/folders/bq/hl737msd54q59fzf7spf0r7h0000gn/T/ipykernel_74458/1770717913.py:38: RuntimeWarning: No bad channels to interpolate. Doing nothing...\n",
      "  raw.interpolate_bads(reset_bads=True)\n",
      "/var/folders/bq/hl737msd54q59fzf7spf0r7h0000gn/T/ipykernel_74458/1770717913.py:47: DeprecationWarning: `np.int` is a deprecated alias for the builtin `int`. To silence this warning, use `int` by itself. Doing this will not modify any behavior and is safe. When replacing `np.int`, you may wish to use e.g. `np.int64` or `np.int32` to specify the precision. If you wish to review your current use, check the release note link for additional information.\n",
      "Deprecated in NumPy 1.20; for more details and guidance: https://numpy.org/devdocs/release/1.20.0-notes.html#deprecations\n",
      "  cut = np.int(sig_length*fs)\n"
     ]
    },
    {
     "name": "stdout",
     "output_type": "stream",
     "text": [
      "Analyzing Avlanches of data/input/continuous/sub7-day3-jhana-raw.fif\n",
      "Opening raw data file data/input/continuous/sub7-day3-jhana-raw.fif...\n",
      "    Range : 893 ... 383793 =      3.488 ...  1499.191 secs\n",
      "Ready.\n",
      "Reading 0 ... 382900  =      0.000 ...  1495.703 secs...\n",
      "Setting channel interpolation method to {'eeg': 'spline'}.\n",
      "Interpolating bad channels.\n",
      "    Automatic origin fit: head of radius 95.7 mm\n",
      "Computing interpolation matrix from 28 sensor positions\n",
      "Interpolating 4 sensors\n",
      "NOTE: pick_types() is a legacy function. New code should use inst.pick(...).\n"
     ]
    },
    {
     "name": "stderr",
     "output_type": "stream",
     "text": [
      "/var/folders/bq/hl737msd54q59fzf7spf0r7h0000gn/T/ipykernel_74458/1770717913.py:47: DeprecationWarning: `np.int` is a deprecated alias for the builtin `int`. To silence this warning, use `int` by itself. Doing this will not modify any behavior and is safe. When replacing `np.int`, you may wish to use e.g. `np.int64` or `np.int32` to specify the precision. If you wish to review your current use, check the release note link for additional information.\n",
      "Deprecated in NumPy 1.20; for more details and guidance: https://numpy.org/devdocs/release/1.20.0-notes.html#deprecations\n",
      "  cut = np.int(sig_length*fs)\n"
     ]
    },
    {
     "name": "stdout",
     "output_type": "stream",
     "text": [
      "Analyzing Avlanches of data/input/continuous/sub7-day3-mindfulness-raw.fif\n",
      "Opening raw data file data/input/continuous/sub7-day3-mindfulness-raw.fif...\n",
      "    Range : 256 ... 369266 =      1.000 ...  1442.445 secs\n",
      "Ready.\n",
      "Reading 0 ... 369010  =      0.000 ...  1441.445 secs...\n",
      "Setting channel interpolation method to {'eeg': 'spline'}.\n",
      "Interpolating bad channels.\n",
      "    Automatic origin fit: head of radius 95.7 mm\n",
      "Computing interpolation matrix from 27 sensor positions\n",
      "Interpolating 5 sensors\n",
      "NOTE: pick_types() is a legacy function. New code should use inst.pick(...).\n"
     ]
    },
    {
     "name": "stderr",
     "output_type": "stream",
     "text": [
      "/var/folders/bq/hl737msd54q59fzf7spf0r7h0000gn/T/ipykernel_74458/1770717913.py:47: DeprecationWarning: `np.int` is a deprecated alias for the builtin `int`. To silence this warning, use `int` by itself. Doing this will not modify any behavior and is safe. When replacing `np.int`, you may wish to use e.g. `np.int64` or `np.int32` to specify the precision. If you wish to review your current use, check the release note link for additional information.\n",
      "Deprecated in NumPy 1.20; for more details and guidance: https://numpy.org/devdocs/release/1.20.0-notes.html#deprecations\n",
      "  cut = np.int(sig_length*fs)\n"
     ]
    },
    {
     "name": "stdout",
     "output_type": "stream",
     "text": [
      "Analyzing Avlanches of data/input/continuous/sub7-day4-jhana-raw.fif\n",
      "Opening raw data file data/input/continuous/sub7-day4-jhana-raw.fif...\n",
      "    Range : 256 ... 373068 =      1.000 ...  1457.297 secs\n",
      "Ready.\n",
      "Reading 0 ... 372812  =      0.000 ...  1456.297 secs...\n",
      "Setting channel interpolation method to {'eeg': 'spline'}.\n",
      "NOTE: pick_types() is a legacy function. New code should use inst.pick(...).\n"
     ]
    },
    {
     "name": "stderr",
     "output_type": "stream",
     "text": [
      "/var/folders/bq/hl737msd54q59fzf7spf0r7h0000gn/T/ipykernel_74458/1770717913.py:38: RuntimeWarning: No bad channels to interpolate. Doing nothing...\n",
      "  raw.interpolate_bads(reset_bads=True)\n",
      "/var/folders/bq/hl737msd54q59fzf7spf0r7h0000gn/T/ipykernel_74458/1770717913.py:47: DeprecationWarning: `np.int` is a deprecated alias for the builtin `int`. To silence this warning, use `int` by itself. Doing this will not modify any behavior and is safe. When replacing `np.int`, you may wish to use e.g. `np.int64` or `np.int32` to specify the precision. If you wish to review your current use, check the release note link for additional information.\n",
      "Deprecated in NumPy 1.20; for more details and guidance: https://numpy.org/devdocs/release/1.20.0-notes.html#deprecations\n",
      "  cut = np.int(sig_length*fs)\n"
     ]
    },
    {
     "name": "stdout",
     "output_type": "stream",
     "text": [
      "Analyzing Avlanches of data/input/continuous/sub7-day4-mindfulness-raw.fif\n",
      "Opening raw data file data/input/continuous/sub7-day4-mindfulness-raw.fif...\n",
      "    Range : 5231 ... 365616 =     20.434 ...  1428.188 secs\n",
      "Ready.\n",
      "Reading 0 ... 360385  =      0.000 ...  1407.754 secs...\n",
      "Setting channel interpolation method to {'eeg': 'spline'}.\n",
      "NOTE: pick_types() is a legacy function. New code should use inst.pick(...).\n"
     ]
    },
    {
     "name": "stderr",
     "output_type": "stream",
     "text": [
      "/var/folders/bq/hl737msd54q59fzf7spf0r7h0000gn/T/ipykernel_74458/1770717913.py:38: RuntimeWarning: No bad channels to interpolate. Doing nothing...\n",
      "  raw.interpolate_bads(reset_bads=True)\n",
      "/var/folders/bq/hl737msd54q59fzf7spf0r7h0000gn/T/ipykernel_74458/1770717913.py:47: DeprecationWarning: `np.int` is a deprecated alias for the builtin `int`. To silence this warning, use `int` by itself. Doing this will not modify any behavior and is safe. When replacing `np.int`, you may wish to use e.g. `np.int64` or `np.int32` to specify the precision. If you wish to review your current use, check the release note link for additional information.\n",
      "Deprecated in NumPy 1.20; for more details and guidance: https://numpy.org/devdocs/release/1.20.0-notes.html#deprecations\n",
      "  cut = np.int(sig_length*fs)\n"
     ]
    },
    {
     "name": "stdout",
     "output_type": "stream",
     "text": [
      "Analyzing Avlanches of data/input/continuous/sub8-day1-jhana-raw.fif\n",
      "Opening raw data file data/input/continuous/sub8-day1-jhana-raw.fif...\n",
      "    Range : 768 ... 330120 =      3.000 ...  1289.531 secs\n",
      "Ready.\n",
      "Reading 0 ... 329352  =      0.000 ...  1286.531 secs...\n",
      "Setting channel interpolation method to {'eeg': 'spline'}.\n",
      "Interpolating bad channels.\n",
      "    Automatic origin fit: head of radius 95.7 mm\n",
      "Computing interpolation matrix from 25 sensor positions\n",
      "Interpolating 7 sensors\n",
      "NOTE: pick_types() is a legacy function. New code should use inst.pick(...).\n"
     ]
    },
    {
     "name": "stderr",
     "output_type": "stream",
     "text": [
      "/var/folders/bq/hl737msd54q59fzf7spf0r7h0000gn/T/ipykernel_74458/1770717913.py:47: DeprecationWarning: `np.int` is a deprecated alias for the builtin `int`. To silence this warning, use `int` by itself. Doing this will not modify any behavior and is safe. When replacing `np.int`, you may wish to use e.g. `np.int64` or `np.int32` to specify the precision. If you wish to review your current use, check the release note link for additional information.\n",
      "Deprecated in NumPy 1.20; for more details and guidance: https://numpy.org/devdocs/release/1.20.0-notes.html#deprecations\n",
      "  cut = np.int(sig_length*fs)\n"
     ]
    },
    {
     "name": "stdout",
     "output_type": "stream",
     "text": [
      "Analyzing Avlanches of data/input/continuous/sub8-day1-mindfulness-raw.fif\n",
      "Opening raw data file data/input/continuous/sub8-day1-mindfulness-raw.fif...\n",
      "    Range : 768 ... 261334 =      3.000 ...  1020.836 secs\n",
      "Ready.\n",
      "Reading 0 ... 260566  =      0.000 ...  1017.836 secs...\n",
      "Setting channel interpolation method to {'eeg': 'spline'}.\n",
      "Interpolating bad channels.\n",
      "    Automatic origin fit: head of radius 95.7 mm\n",
      "Computing interpolation matrix from 25 sensor positions\n",
      "Interpolating 7 sensors\n",
      "NOTE: pick_types() is a legacy function. New code should use inst.pick(...).\n"
     ]
    },
    {
     "name": "stderr",
     "output_type": "stream",
     "text": [
      "/var/folders/bq/hl737msd54q59fzf7spf0r7h0000gn/T/ipykernel_74458/1770717913.py:47: DeprecationWarning: `np.int` is a deprecated alias for the builtin `int`. To silence this warning, use `int` by itself. Doing this will not modify any behavior and is safe. When replacing `np.int`, you may wish to use e.g. `np.int64` or `np.int32` to specify the precision. If you wish to review your current use, check the release note link for additional information.\n",
      "Deprecated in NumPy 1.20; for more details and guidance: https://numpy.org/devdocs/release/1.20.0-notes.html#deprecations\n",
      "  cut = np.int(sig_length*fs)\n"
     ]
    },
    {
     "name": "stdout",
     "output_type": "stream",
     "text": [
      "Analyzing Avlanches of data/input/continuous/sub8-day2-jhana-raw.fif\n",
      "Opening raw data file data/input/continuous/sub8-day2-jhana-raw.fif...\n",
      "    Range : 5469 ... 319170 =     21.363 ...  1246.758 secs\n",
      "Ready.\n",
      "Reading 0 ... 313701  =      0.000 ...  1225.395 secs...\n",
      "Setting channel interpolation method to {'eeg': 'spline'}.\n",
      "NOTE: pick_types() is a legacy function. New code should use inst.pick(...).\n"
     ]
    },
    {
     "name": "stderr",
     "output_type": "stream",
     "text": [
      "/var/folders/bq/hl737msd54q59fzf7spf0r7h0000gn/T/ipykernel_74458/1770717913.py:38: RuntimeWarning: No bad channels to interpolate. Doing nothing...\n",
      "  raw.interpolate_bads(reset_bads=True)\n",
      "/var/folders/bq/hl737msd54q59fzf7spf0r7h0000gn/T/ipykernel_74458/1770717913.py:47: DeprecationWarning: `np.int` is a deprecated alias for the builtin `int`. To silence this warning, use `int` by itself. Doing this will not modify any behavior and is safe. When replacing `np.int`, you may wish to use e.g. `np.int64` or `np.int32` to specify the precision. If you wish to review your current use, check the release note link for additional information.\n",
      "Deprecated in NumPy 1.20; for more details and guidance: https://numpy.org/devdocs/release/1.20.0-notes.html#deprecations\n",
      "  cut = np.int(sig_length*fs)\n"
     ]
    },
    {
     "name": "stdout",
     "output_type": "stream",
     "text": [
      "Analyzing Avlanches of data/input/continuous/sub8-day2-mindfulness-raw.fif\n",
      "Opening raw data file data/input/continuous/sub8-day2-mindfulness-raw.fif...\n",
      "    Range : 512 ... 206883 =      2.000 ...   808.137 secs\n",
      "Ready.\n",
      "Reading 0 ... 206371  =      0.000 ...   806.137 secs...\n",
      "Setting channel interpolation method to {'eeg': 'spline'}.\n",
      "Interpolating bad channels.\n",
      "    Automatic origin fit: head of radius 95.7 mm\n",
      "Computing interpolation matrix from 28 sensor positions\n",
      "Interpolating 4 sensors\n",
      "NOTE: pick_types() is a legacy function. New code should use inst.pick(...).\n"
     ]
    },
    {
     "name": "stderr",
     "output_type": "stream",
     "text": [
      "/var/folders/bq/hl737msd54q59fzf7spf0r7h0000gn/T/ipykernel_74458/1770717913.py:47: DeprecationWarning: `np.int` is a deprecated alias for the builtin `int`. To silence this warning, use `int` by itself. Doing this will not modify any behavior and is safe. When replacing `np.int`, you may wish to use e.g. `np.int64` or `np.int32` to specify the precision. If you wish to review your current use, check the release note link for additional information.\n",
      "Deprecated in NumPy 1.20; for more details and guidance: https://numpy.org/devdocs/release/1.20.0-notes.html#deprecations\n",
      "  cut = np.int(sig_length*fs)\n"
     ]
    },
    {
     "name": "stdout",
     "output_type": "stream",
     "text": [
      "Analyzing Avlanches of data/input/continuous/sub8-day3-jhana-raw.fif\n",
      "Opening raw data file data/input/continuous/sub8-day3-jhana-raw.fif...\n",
      "    Range : 256 ... 369209 =      1.000 ...  1442.223 secs\n",
      "Ready.\n",
      "Reading 0 ... 368953  =      0.000 ...  1441.223 secs...\n",
      "Setting channel interpolation method to {'eeg': 'spline'}.\n",
      "Interpolating bad channels.\n",
      "    Automatic origin fit: head of radius 95.7 mm\n",
      "Computing interpolation matrix from 28 sensor positions\n",
      "Interpolating 4 sensors\n",
      "NOTE: pick_types() is a legacy function. New code should use inst.pick(...).\n"
     ]
    },
    {
     "name": "stderr",
     "output_type": "stream",
     "text": [
      "/var/folders/bq/hl737msd54q59fzf7spf0r7h0000gn/T/ipykernel_74458/1770717913.py:47: DeprecationWarning: `np.int` is a deprecated alias for the builtin `int`. To silence this warning, use `int` by itself. Doing this will not modify any behavior and is safe. When replacing `np.int`, you may wish to use e.g. `np.int64` or `np.int32` to specify the precision. If you wish to review your current use, check the release note link for additional information.\n",
      "Deprecated in NumPy 1.20; for more details and guidance: https://numpy.org/devdocs/release/1.20.0-notes.html#deprecations\n",
      "  cut = np.int(sig_length*fs)\n"
     ]
    },
    {
     "name": "stdout",
     "output_type": "stream",
     "text": [
      "Analyzing Avlanches of data/input/continuous/sub8-day3-mindfulness-raw.fif\n",
      "Opening raw data file data/input/continuous/sub8-day3-mindfulness-raw.fif...\n",
      "    Range : 647 ... 348231 =      2.527 ...  1360.277 secs\n",
      "Ready.\n",
      "Reading 0 ... 347584  =      0.000 ...  1357.750 secs...\n",
      "Setting channel interpolation method to {'eeg': 'spline'}.\n",
      "Interpolating bad channels.\n",
      "    Automatic origin fit: head of radius 95.7 mm\n",
      "Computing interpolation matrix from 29 sensor positions\n",
      "Interpolating 3 sensors\n",
      "NOTE: pick_types() is a legacy function. New code should use inst.pick(...).\n"
     ]
    },
    {
     "name": "stderr",
     "output_type": "stream",
     "text": [
      "/var/folders/bq/hl737msd54q59fzf7spf0r7h0000gn/T/ipykernel_74458/1770717913.py:47: DeprecationWarning: `np.int` is a deprecated alias for the builtin `int`. To silence this warning, use `int` by itself. Doing this will not modify any behavior and is safe. When replacing `np.int`, you may wish to use e.g. `np.int64` or `np.int32` to specify the precision. If you wish to review your current use, check the release note link for additional information.\n",
      "Deprecated in NumPy 1.20; for more details and guidance: https://numpy.org/devdocs/release/1.20.0-notes.html#deprecations\n",
      "  cut = np.int(sig_length*fs)\n"
     ]
    },
    {
     "name": "stdout",
     "output_type": "stream",
     "text": [
      "Analyzing Avlanches of data/input/continuous/sub8-day4-jhana-raw.fif\n",
      "Opening raw data file data/input/continuous/sub8-day4-jhana-raw.fif...\n",
      "    Range : 256 ... 341884 =      1.000 ...  1335.484 secs\n",
      "Ready.\n",
      "Reading 0 ... 341628  =      0.000 ...  1334.484 secs...\n",
      "Setting channel interpolation method to {'eeg': 'spline'}.\n",
      "NOTE: pick_types() is a legacy function. New code should use inst.pick(...).\n"
     ]
    },
    {
     "name": "stderr",
     "output_type": "stream",
     "text": [
      "/var/folders/bq/hl737msd54q59fzf7spf0r7h0000gn/T/ipykernel_74458/1770717913.py:38: RuntimeWarning: No bad channels to interpolate. Doing nothing...\n",
      "  raw.interpolate_bads(reset_bads=True)\n",
      "/var/folders/bq/hl737msd54q59fzf7spf0r7h0000gn/T/ipykernel_74458/1770717913.py:47: DeprecationWarning: `np.int` is a deprecated alias for the builtin `int`. To silence this warning, use `int` by itself. Doing this will not modify any behavior and is safe. When replacing `np.int`, you may wish to use e.g. `np.int64` or `np.int32` to specify the precision. If you wish to review your current use, check the release note link for additional information.\n",
      "Deprecated in NumPy 1.20; for more details and guidance: https://numpy.org/devdocs/release/1.20.0-notes.html#deprecations\n",
      "  cut = np.int(sig_length*fs)\n"
     ]
    },
    {
     "name": "stdout",
     "output_type": "stream",
     "text": [
      "Analyzing Avlanches of data/input/continuous/sub8-day4-mindfulness-raw.fif\n",
      "Opening raw data file data/input/continuous/sub8-day4-mindfulness-raw.fif...\n",
      "    Range : 512 ... 359882 =      2.000 ...  1405.789 secs\n",
      "Ready.\n",
      "Reading 0 ... 359370  =      0.000 ...  1403.789 secs...\n",
      "Setting channel interpolation method to {'eeg': 'spline'}.\n",
      "Interpolating bad channels.\n",
      "    Automatic origin fit: head of radius 95.7 mm\n",
      "Computing interpolation matrix from 29 sensor positions\n",
      "Interpolating 3 sensors\n",
      "NOTE: pick_types() is a legacy function. New code should use inst.pick(...).\n"
     ]
    },
    {
     "name": "stderr",
     "output_type": "stream",
     "text": [
      "/var/folders/bq/hl737msd54q59fzf7spf0r7h0000gn/T/ipykernel_74458/1770717913.py:47: DeprecationWarning: `np.int` is a deprecated alias for the builtin `int`. To silence this warning, use `int` by itself. Doing this will not modify any behavior and is safe. When replacing `np.int`, you may wish to use e.g. `np.int64` or `np.int32` to specify the precision. If you wish to review your current use, check the release note link for additional information.\n",
      "Deprecated in NumPy 1.20; for more details and guidance: https://numpy.org/devdocs/release/1.20.0-notes.html#deprecations\n",
      "  cut = np.int(sig_length*fs)\n"
     ]
    },
    {
     "name": "stdout",
     "output_type": "stream",
     "text": [
      "Analyzing Avlanches of data/input/continuous/sub9-day1-jhana-raw.fif\n",
      "Opening raw data file data/input/continuous/sub9-day1-jhana-raw.fif...\n",
      "    Range : 512 ... 372844 =      2.000 ...  1456.422 secs\n",
      "Ready.\n",
      "Reading 0 ... 372332  =      0.000 ...  1454.422 secs...\n",
      "Setting channel interpolation method to {'eeg': 'spline'}.\n",
      "Interpolating bad channels.\n",
      "    Automatic origin fit: head of radius 95.7 mm\n",
      "Computing interpolation matrix from 26 sensor positions\n",
      "Interpolating 6 sensors\n",
      "NOTE: pick_types() is a legacy function. New code should use inst.pick(...).\n"
     ]
    },
    {
     "name": "stderr",
     "output_type": "stream",
     "text": [
      "/var/folders/bq/hl737msd54q59fzf7spf0r7h0000gn/T/ipykernel_74458/1770717913.py:47: DeprecationWarning: `np.int` is a deprecated alias for the builtin `int`. To silence this warning, use `int` by itself. Doing this will not modify any behavior and is safe. When replacing `np.int`, you may wish to use e.g. `np.int64` or `np.int32` to specify the precision. If you wish to review your current use, check the release note link for additional information.\n",
      "Deprecated in NumPy 1.20; for more details and guidance: https://numpy.org/devdocs/release/1.20.0-notes.html#deprecations\n",
      "  cut = np.int(sig_length*fs)\n"
     ]
    },
    {
     "name": "stdout",
     "output_type": "stream",
     "text": [
      "Analyzing Avlanches of data/input/continuous/sub9-day1-mindfulness-raw.fif\n",
      "Opening raw data file data/input/continuous/sub9-day1-mindfulness-raw.fif...\n",
      "    Range : 768 ... 214620 =      3.000 ...   838.359 secs\n",
      "Ready.\n",
      "Reading 0 ... 213852  =      0.000 ...   835.359 secs...\n",
      "Setting channel interpolation method to {'eeg': 'spline'}.\n",
      "Interpolating bad channels.\n",
      "    Automatic origin fit: head of radius 95.7 mm\n",
      "Computing interpolation matrix from 30 sensor positions\n",
      "Interpolating 2 sensors\n",
      "NOTE: pick_types() is a legacy function. New code should use inst.pick(...).\n"
     ]
    },
    {
     "name": "stderr",
     "output_type": "stream",
     "text": [
      "/var/folders/bq/hl737msd54q59fzf7spf0r7h0000gn/T/ipykernel_74458/1770717913.py:47: DeprecationWarning: `np.int` is a deprecated alias for the builtin `int`. To silence this warning, use `int` by itself. Doing this will not modify any behavior and is safe. When replacing `np.int`, you may wish to use e.g. `np.int64` or `np.int32` to specify the precision. If you wish to review your current use, check the release note link for additional information.\n",
      "Deprecated in NumPy 1.20; for more details and guidance: https://numpy.org/devdocs/release/1.20.0-notes.html#deprecations\n",
      "  cut = np.int(sig_length*fs)\n"
     ]
    },
    {
     "name": "stdout",
     "output_type": "stream",
     "text": [
      "Analyzing Avlanches of data/input/continuous/sub9-day2-jhana-raw.fif\n",
      "Opening raw data file data/input/continuous/sub9-day2-jhana-raw.fif...\n",
      "    Range : 49459 ... 323142 =    193.199 ...  1262.273 secs\n",
      "Ready.\n",
      "Reading 0 ... 273683  =      0.000 ...  1069.074 secs...\n",
      "Setting channel interpolation method to {'eeg': 'spline'}.\n",
      "Interpolating bad channels.\n",
      "    Automatic origin fit: head of radius 95.7 mm\n",
      "Computing interpolation matrix from 25 sensor positions\n",
      "Interpolating 7 sensors\n",
      "NOTE: pick_types() is a legacy function. New code should use inst.pick(...).\n"
     ]
    },
    {
     "name": "stderr",
     "output_type": "stream",
     "text": [
      "/var/folders/bq/hl737msd54q59fzf7spf0r7h0000gn/T/ipykernel_74458/1770717913.py:47: DeprecationWarning: `np.int` is a deprecated alias for the builtin `int`. To silence this warning, use `int` by itself. Doing this will not modify any behavior and is safe. When replacing `np.int`, you may wish to use e.g. `np.int64` or `np.int32` to specify the precision. If you wish to review your current use, check the release note link for additional information.\n",
      "Deprecated in NumPy 1.20; for more details and guidance: https://numpy.org/devdocs/release/1.20.0-notes.html#deprecations\n",
      "  cut = np.int(sig_length*fs)\n"
     ]
    },
    {
     "name": "stdout",
     "output_type": "stream",
     "text": [
      "Analyzing Avlanches of data/input/continuous/sub9-day2-mindfulness-raw.fif\n",
      "Opening raw data file data/input/continuous/sub9-day2-mindfulness-raw.fif...\n",
      "    Range : 2979 ... 332666 =     11.637 ...  1299.477 secs\n",
      "Ready.\n",
      "Reading 0 ... 329687  =      0.000 ...  1287.840 secs...\n",
      "Setting channel interpolation method to {'eeg': 'spline'}.\n",
      "Interpolating bad channels.\n",
      "    Automatic origin fit: head of radius 95.7 mm\n",
      "Computing interpolation matrix from 25 sensor positions\n",
      "Interpolating 7 sensors\n",
      "NOTE: pick_types() is a legacy function. New code should use inst.pick(...).\n"
     ]
    },
    {
     "name": "stderr",
     "output_type": "stream",
     "text": [
      "/var/folders/bq/hl737msd54q59fzf7spf0r7h0000gn/T/ipykernel_74458/1770717913.py:47: DeprecationWarning: `np.int` is a deprecated alias for the builtin `int`. To silence this warning, use `int` by itself. Doing this will not modify any behavior and is safe. When replacing `np.int`, you may wish to use e.g. `np.int64` or `np.int32` to specify the precision. If you wish to review your current use, check the release note link for additional information.\n",
      "Deprecated in NumPy 1.20; for more details and guidance: https://numpy.org/devdocs/release/1.20.0-notes.html#deprecations\n",
      "  cut = np.int(sig_length*fs)\n"
     ]
    },
    {
     "name": "stdout",
     "output_type": "stream",
     "text": [
      "Analyzing Avlanches of data/input/continuous/sub9-day3-jhana-raw.fif\n",
      "Opening raw data file data/input/continuous/sub9-day3-jhana-raw.fif...\n",
      "    Range : 2535 ... 359760 =      9.902 ...  1405.312 secs\n",
      "Ready.\n",
      "Reading 0 ... 357225  =      0.000 ...  1395.410 secs...\n",
      "Setting channel interpolation method to {'eeg': 'spline'}.\n",
      "Interpolating bad channels.\n",
      "    Automatic origin fit: head of radius 95.7 mm\n",
      "Computing interpolation matrix from 26 sensor positions\n",
      "Interpolating 6 sensors\n",
      "NOTE: pick_types() is a legacy function. New code should use inst.pick(...).\n"
     ]
    },
    {
     "name": "stderr",
     "output_type": "stream",
     "text": [
      "/var/folders/bq/hl737msd54q59fzf7spf0r7h0000gn/T/ipykernel_74458/1770717913.py:47: DeprecationWarning: `np.int` is a deprecated alias for the builtin `int`. To silence this warning, use `int` by itself. Doing this will not modify any behavior and is safe. When replacing `np.int`, you may wish to use e.g. `np.int64` or `np.int32` to specify the precision. If you wish to review your current use, check the release note link for additional information.\n",
      "Deprecated in NumPy 1.20; for more details and guidance: https://numpy.org/devdocs/release/1.20.0-notes.html#deprecations\n",
      "  cut = np.int(sig_length*fs)\n"
     ]
    },
    {
     "name": "stdout",
     "output_type": "stream",
     "text": [
      "Analyzing Avlanches of data/input/continuous/sub9-day3-mindfulness-raw.fif\n",
      "Opening raw data file data/input/continuous/sub9-day3-mindfulness-raw.fif...\n",
      "    Range : 2432 ... 317014 =      9.500 ...  1238.336 secs\n",
      "Ready.\n",
      "Reading 0 ... 314582  =      0.000 ...  1228.836 secs...\n",
      "Setting channel interpolation method to {'eeg': 'spline'}.\n",
      "Interpolating bad channels.\n",
      "    Automatic origin fit: head of radius 95.7 mm\n",
      "Computing interpolation matrix from 27 sensor positions\n",
      "Interpolating 5 sensors\n",
      "NOTE: pick_types() is a legacy function. New code should use inst.pick(...).\n"
     ]
    },
    {
     "name": "stderr",
     "output_type": "stream",
     "text": [
      "/var/folders/bq/hl737msd54q59fzf7spf0r7h0000gn/T/ipykernel_74458/1770717913.py:47: DeprecationWarning: `np.int` is a deprecated alias for the builtin `int`. To silence this warning, use `int` by itself. Doing this will not modify any behavior and is safe. When replacing `np.int`, you may wish to use e.g. `np.int64` or `np.int32` to specify the precision. If you wish to review your current use, check the release note link for additional information.\n",
      "Deprecated in NumPy 1.20; for more details and guidance: https://numpy.org/devdocs/release/1.20.0-notes.html#deprecations\n",
      "  cut = np.int(sig_length*fs)\n"
     ]
    },
    {
     "name": "stdout",
     "output_type": "stream",
     "text": [
      "Analyzing Avlanches of data/input/continuous/sub9-day4-jhana-raw.fif\n",
      "Opening raw data file data/input/continuous/sub9-day4-jhana-raw.fif...\n",
      "    Range : 8086 ... 235268 =     31.586 ...   919.016 secs\n",
      "Ready.\n",
      "Reading 0 ... 227182  =      0.000 ...   887.430 secs...\n",
      "Setting channel interpolation method to {'eeg': 'spline'}.\n",
      "Interpolating bad channels.\n",
      "    Automatic origin fit: head of radius 95.7 mm\n",
      "Computing interpolation matrix from 29 sensor positions\n",
      "Interpolating 3 sensors\n",
      "NOTE: pick_types() is a legacy function. New code should use inst.pick(...).\n"
     ]
    },
    {
     "name": "stderr",
     "output_type": "stream",
     "text": [
      "/var/folders/bq/hl737msd54q59fzf7spf0r7h0000gn/T/ipykernel_74458/1770717913.py:47: DeprecationWarning: `np.int` is a deprecated alias for the builtin `int`. To silence this warning, use `int` by itself. Doing this will not modify any behavior and is safe. When replacing `np.int`, you may wish to use e.g. `np.int64` or `np.int32` to specify the precision. If you wish to review your current use, check the release note link for additional information.\n",
      "Deprecated in NumPy 1.20; for more details and guidance: https://numpy.org/devdocs/release/1.20.0-notes.html#deprecations\n",
      "  cut = np.int(sig_length*fs)\n"
     ]
    },
    {
     "name": "stdout",
     "output_type": "stream",
     "text": [
      "Analyzing Avlanches of data/input/continuous/sub9-day4-mindfulness-raw.fif\n",
      "Opening raw data file data/input/continuous/sub9-day4-mindfulness-raw.fif...\n",
      "    Range : 1788 ... 355149 =      6.984 ...  1387.301 secs\n",
      "Ready.\n",
      "Reading 0 ... 353361  =      0.000 ...  1380.316 secs...\n",
      "Setting channel interpolation method to {'eeg': 'spline'}.\n",
      "Interpolating bad channels.\n",
      "    Automatic origin fit: head of radius 95.7 mm\n",
      "Computing interpolation matrix from 28 sensor positions\n",
      "Interpolating 4 sensors\n",
      "NOTE: pick_types() is a legacy function. New code should use inst.pick(...).\n"
     ]
    },
    {
     "name": "stderr",
     "output_type": "stream",
     "text": [
      "/var/folders/bq/hl737msd54q59fzf7spf0r7h0000gn/T/ipykernel_74458/1770717913.py:47: DeprecationWarning: `np.int` is a deprecated alias for the builtin `int`. To silence this warning, use `int` by itself. Doing this will not modify any behavior and is safe. When replacing `np.int`, you may wish to use e.g. `np.int64` or `np.int32` to specify the precision. If you wish to review your current use, check the release note link for additional information.\n",
      "Deprecated in NumPy 1.20; for more details and guidance: https://numpy.org/devdocs/release/1.20.0-notes.html#deprecations\n",
      "  cut = np.int(sig_length*fs)\n"
     ]
    }
   ],
   "source": [
    "FIL_FREQ = (0.5, 40) # bandpass frequencies\n",
    "THRESH_TYPE = 'both' # Fosque22: 'both'\n",
    "\n",
    "out_dir = 'data/output/avc_std_dist/'\n",
    "in_dir = 'data/input/continuous/'\n",
    "\n",
    "# make output directory\n",
    "if not os.path.exists(out_dir):\n",
    "    os.makedirs(out_dir)\n",
    "\n",
    "# load patient info and conditions\n",
    "\n",
    "hist_x = []\n",
    "hist_y = []\n",
    "\n",
    "hist_x_raw = []\n",
    "hist_y_raw = []\n",
    "\n",
    "sub_all = []\n",
    "day_all = []\n",
    "condition_all = []\n",
    "\n",
    "paths = glob.glob(f\"{in_dir}*.fif\")\n",
    "paths.sort()\n",
    "\n",
    "#loop over all conditions and particiants\n",
    "for i, path in enumerate(paths):\n",
    "    print(f\"Analyzing Avlanches of {path}\");\n",
    "    \n",
    "    sub = os.path.basename(path)[:4]\n",
    "    day = os.path.basename(path)[5:9]\n",
    "    condition = os.path.basename(path)[10:-8]\n",
    "\n",
    "    #################################\n",
    "    #          LOAD  DATA          #\n",
    "    #################################\n",
    "    raw = mne.io.read_raw_fif(path, preload=True)\n",
    "    raw.interpolate_bads(reset_bads=True)\n",
    "    raw.pick_types(eeg=True, meg=False, stim=False, eog=False, ecg=False, emg=False, misc=False, exclude='bads')\n",
    "\n",
    "    data = raw.get_data()\n",
    "    fs= 256\n",
    "    sig_length = min(data.shape[1]/fs , 300)\n",
    "    nr_channels =  data.shape[0]\n",
    "\n",
    "    # cut data and only use first 5 min or less\n",
    "    cut = np.int(sig_length*fs)\n",
    "    data = data[:,:cut]\n",
    "\n",
    "    data_filt = mne.filter.filter_data(data, sfreq=fs, l_freq=FIL_FREQ[0], h_freq=FIL_FREQ[1],verbose=False)\n",
    "\n",
    "    # FIND DEVIATIONS FOR RELATIVE STD (Per recording)\n",
    "    mean_per_chan = np.mean(data_filt, axis=1, keepdims=True)\n",
    "    std_per_chan = np.std(data_filt, axis=1, keepdims=True)\n",
    "\n",
    "    # Z-score all data\n",
    "    data_z = (data_filt-mean_per_chan)/std_per_chan\n",
    "\n",
    "    scale = np.linspace(-10,10,100)\n",
    "    part_hist_y, part_hist_x = np.histogram(data_z, bins = scale)\n",
    "\n",
    "    hist_x.append(part_hist_x)\n",
    "    hist_y.append(part_hist_y)\n",
    "\n",
    "    sub_all.append(sub)\n",
    "    day_all.append(day) \n",
    "    condition_all.append(condition)\n",
    "\n",
    "    output_df_x = pd.DataFrame(hist_x)\n",
    "    output_df_Y = pd.DataFrame(hist_y)\n",
    "    output_2 = pd.DataFrame({'sub':sub_all, 'day': day_all,'condition':condition_all})\n",
    "    tosave = pd.concat((output_2,output_df_x,output_df_Y),axis = 1)\n",
    "    tosave.to_csv(f'{out_dir}/AVC_std_varley.csv', index=False, sep=',')\n",
    "\n",
    "    # do the same without z scores\n",
    "    scale = np.linspace(-100,100,100)\n",
    "    part_hist_y, part_hist_x = np.histogram(data_filt, bins = scale)\n",
    "\n",
    "    hist_x_raw.append(part_hist_x)\n",
    "    hist_y_raw.append(part_hist_y)\n",
    "\n",
    "    output_df_x = pd.DataFrame(hist_x_raw)\n",
    "    output_df_Y = pd.DataFrame(hist_y_raw)\n",
    "    output_2 = pd.DataFrame({'sub':sub_all, 'day': day_all,'condition':condition_all})\n",
    "    tosave = pd.concat((output_2,output_df_x,output_df_Y),axis = 1)\n",
    "    tosave.to_csv(f'{out_dir}/AVC_std_varley_raw.csv', index=False, sep=',')\n"
   ]
  },
  {
   "cell_type": "code",
   "execution_count": null,
   "metadata": {},
   "outputs": [],
   "source": [
    "    # FIND DEVIATIONS FOR RELATIVE STD (Per recording)\n",
    "    mean_per_chan = np.mean(data_filt, axis=1, keepdims=True)\n",
    "    std_per_chan = np.std(data_filt, axis=1, keepdims=True)\n",
    "\n",
    "    # Z-score all data\n",
    "    data_z = (data_filt-mean_per_chan)/std_per_chan"
   ]
  },
  {
   "cell_type": "code",
   "execution_count": null,
   "metadata": {},
   "outputs": [],
   "source": []
  },
  {
   "cell_type": "code",
   "execution_count": 10,
   "metadata": {},
   "outputs": [
    {
     "data": {
      "text/plain": [
       "(32, 76800)"
      ]
     },
     "execution_count": 10,
     "metadata": {},
     "output_type": "execute_result"
    }
   ],
   "source": [
    "(data_z-data_filt).shape"
   ]
  },
  {
   "cell_type": "code",
   "execution_count": 6,
   "metadata": {},
   "outputs": [
    {
     "data": {
      "text/plain": [
       "(32, 76800)"
      ]
     },
     "execution_count": 6,
     "metadata": {},
     "output_type": "execute_result"
    }
   ],
   "source": [
    "data_z.shape"
   ]
  },
  {
   "cell_type": "code",
   "execution_count": 4,
   "metadata": {},
   "outputs": [
    {
     "data": {
      "text/plain": [
       "array([[-3.33861708e-08],\n",
       "       [-3.62512576e-08],\n",
       "       [-2.03152794e-08],\n",
       "       [-9.96404407e-09],\n",
       "       [-3.21808060e-08],\n",
       "       [-1.94204045e-08],\n",
       "       [-1.73439026e-08],\n",
       "       [-1.51230917e-08],\n",
       "       [-2.54962853e-08],\n",
       "       [-2.05426136e-08],\n",
       "       [-2.34697762e-08],\n",
       "       [-3.74774129e-09],\n",
       "       [-2.71829387e-08],\n",
       "       [-2.73299955e-08],\n",
       "       [-4.22643437e-08],\n",
       "       [-2.03470008e-09],\n",
       "       [-4.54177247e-10],\n",
       "       [-2.61269778e-08],\n",
       "       [-1.91635591e-08],\n",
       "       [-4.22504581e-08],\n",
       "       [-1.57681201e-08],\n",
       "       [-2.71883354e-08],\n",
       "       [-2.57232493e-08],\n",
       "       [-4.38849125e-08],\n",
       "       [-3.67938982e-08],\n",
       "       [-2.64067189e-08],\n",
       "       [-4.20527952e-08],\n",
       "       [-4.17651410e-08],\n",
       "       [-1.57165244e-08],\n",
       "       [-1.55366022e-09],\n",
       "       [-1.65981932e-10],\n",
       "       [ 1.95790094e-09]])"
      ]
     },
     "execution_count": 4,
     "metadata": {},
     "output_type": "execute_result"
    }
   ],
   "source": [
    "mean_per_chan"
   ]
  },
  {
   "cell_type": "code",
   "execution_count": null,
   "metadata": {},
   "outputs": [],
   "source": []
  }
 ],
 "metadata": {
  "kernelspec": {
   "display_name": "venv",
   "language": "python",
   "name": "python3"
  },
  "language_info": {
   "codemirror_mode": {
    "name": "ipython",
    "version": 3
   },
   "file_extension": ".py",
   "mimetype": "text/x-python",
   "name": "python",
   "nbconvert_exporter": "python",
   "pygments_lexer": "ipython3",
   "version": "3.8.8"
  }
 },
 "nbformat": 4,
 "nbformat_minor": 2
}

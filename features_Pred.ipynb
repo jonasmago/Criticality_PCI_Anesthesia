{
 "cells": [
  {
   "cell_type": "code",
   "execution_count": 18,
   "metadata": {},
   "outputs": [],
   "source": [
    "import pandas as pd\n",
    "from antropy import lziv_complexity\n",
    "import multiprocessing as mp\n",
    "from scipy.io import loadmat\n",
    "from scipy.io import savemat\n",
    "import numpy as np\n",
    "import argparse\n",
    "import mne.io\n",
    "import random\n",
    "import mne\n",
    "import os\n",
    "import multiprocessing as mp\n",
    "import neurokit2 as nk\n",
    "from scipy.fft import fft, ifft\n",
    "from scipy.signal import hilbert\n",
    "from scipy.fftpack import rfft, irfft\n",
    "\n",
    "from joblib import Parallel, delayed\n",
    "import glob\n",
    "\n",
    "import os\n"
   ]
  },
  {
   "cell_type": "code",
   "execution_count": 19,
   "metadata": {},
   "outputs": [],
   "source": [
    "def get_pred(trial, epochs):\n",
    "    \n",
    "    Lyaps = []\n",
    "    Dims = []\n",
    "    Ent = []\n",
    "    LZC = []\n",
    "    KDF = []\n",
    "\n",
    "    nr_channels =  epochs.shape[1]\n",
    "    trial_data = epochs[trial]\n",
    "\n",
    "    for ch in range(nr_channels):\n",
    "        channel_data = trial_data[ch]\n",
    "        lle, _ = nk.complexity_lyapunov(channel_data, method=\"rosenstein1993\", show=False)\n",
    "        Lyaps.append(lle)\n",
    "\n",
    "        dims, _ = nk.complexity_dimension(channel_data)\n",
    "        Dims.append(dims)\n",
    "\n",
    "        ent, _ = nk.entropy_multiscale(channel_data, show=False, dimension=dims)\n",
    "        Ent.append(ent)\n",
    "\n",
    "        lzc, _ = nk.complexity_lempelziv(channel_data, show=False)\n",
    "        LZC.append(lzc)\n",
    "\n",
    "        kdf, _ = nk.fractal_katz(channel_data)\n",
    "        KDF.append(kdf)\n",
    "\n",
    "    #print('Done Trial {}'.format(str(trial)))\n",
    "\n",
    "    return Lyaps, Dims, Ent, LZC, KDF\n",
    "\n"
   ]
  },
  {
   "cell_type": "code",
   "execution_count": null,
   "metadata": {},
   "outputs": [
    {
     "name": "stdout",
     "output_type": "stream",
     "text": [
      "Analyzing Lyapunov Exponenf of data/input/10s/sub6-day1-jhana-epo.fif\n",
      "Reading /Users/jonasmago/PhD_code_data/github/Criticality_PCI_Anesthesia/data/input/10s/sub6-day1-jhana-epo.fif ...\n",
      "    Found the data of interest:\n",
      "        t =       0.00 ...    9996.09 ms\n",
      "        0 CTF compensation matrices available\n",
      "Not setting metadata\n",
      "124 matching events found\n",
      "No baseline correction applied\n",
      "0 projection items activated\n",
      "Setting channel interpolation method to {'eeg': 'spline'}.\n",
      "Interpolating bad channels.\n",
      "    Automatic origin fit: head of radius 95.7 mm\n",
      "Computing interpolation matrix from 30 sensor positions\n",
      "Interpolating 2 sensors\n",
      "NOTE: pick_types() is a legacy function. New code should use inst.pick(...).\n"
     ]
    },
    {
     "name": "stderr",
     "output_type": "stream",
     "text": [
      "/var/folders/bq/hl737msd54q59fzf7spf0r7h0000gn/T/ipykernel_67876/1845851360.py:49: FutureWarning: The current default of copy=False will change to copy=True in 1.7. Set the value of copy explicitly to avoid this warning\n",
      "  epochs = epochs_mne.get_data()\n",
      "/var/folders/bq/hl737msd54q59fzf7spf0r7h0000gn/T/ipykernel_67876/1845851360.py:59: FutureWarning: The current default of copy=False will change to copy=True in 1.7. Set the value of copy explicitly to avoid this warning\n",
      "  epochs = epochs_filt.get_data()\n"
     ]
    },
    {
     "name": "stdout",
     "output_type": "stream",
     "text": [
      "Analyzing Lyapunov Exponenf of data/input/10s/sub6-day1-mindfulness-epo.fif\n",
      "Reading /Users/jonasmago/PhD_code_data/github/Criticality_PCI_Anesthesia/data/input/10s/sub6-day1-mindfulness-epo.fif ...\n",
      "    Found the data of interest:\n",
      "        t =       0.00 ...    9996.09 ms\n",
      "        0 CTF compensation matrices available\n",
      "Not setting metadata\n",
      "67 matching events found\n",
      "No baseline correction applied\n",
      "0 projection items activated\n",
      "Setting channel interpolation method to {'eeg': 'spline'}.\n",
      "Interpolating bad channels.\n",
      "    Automatic origin fit: head of radius 95.7 mm\n",
      "Computing interpolation matrix from 30 sensor positions\n",
      "Interpolating 2 sensors\n",
      "NOTE: pick_types() is a legacy function. New code should use inst.pick(...).\n"
     ]
    },
    {
     "name": "stderr",
     "output_type": "stream",
     "text": [
      "/var/folders/bq/hl737msd54q59fzf7spf0r7h0000gn/T/ipykernel_67876/1845851360.py:49: FutureWarning: The current default of copy=False will change to copy=True in 1.7. Set the value of copy explicitly to avoid this warning\n",
      "  epochs = epochs_mne.get_data()\n",
      "/var/folders/bq/hl737msd54q59fzf7spf0r7h0000gn/T/ipykernel_67876/1845851360.py:59: FutureWarning: The current default of copy=False will change to copy=True in 1.7. Set the value of copy explicitly to avoid this warning\n",
      "  epochs = epochs_filt.get_data()\n"
     ]
    },
    {
     "name": "stdout",
     "output_type": "stream",
     "text": [
      "Analyzing Lyapunov Exponenf of data/input/10s/sub6-day2-jhana-epo.fif\n",
      "Reading /Users/jonasmago/PhD_code_data/github/Criticality_PCI_Anesthesia/data/input/10s/sub6-day2-jhana-epo.fif ...\n",
      "    Found the data of interest:\n",
      "        t =       0.00 ...    9996.09 ms\n",
      "        0 CTF compensation matrices available\n",
      "Not setting metadata\n",
      "124 matching events found\n",
      "No baseline correction applied\n",
      "0 projection items activated\n",
      "Setting channel interpolation method to {'eeg': 'spline'}.\n",
      "Interpolating bad channels.\n",
      "    Automatic origin fit: head of radius 95.7 mm\n",
      "Computing interpolation matrix from 29 sensor positions\n",
      "Interpolating 3 sensors\n",
      "NOTE: pick_types() is a legacy function. New code should use inst.pick(...).\n"
     ]
    },
    {
     "name": "stderr",
     "output_type": "stream",
     "text": [
      "/var/folders/bq/hl737msd54q59fzf7spf0r7h0000gn/T/ipykernel_67876/1845851360.py:49: FutureWarning: The current default of copy=False will change to copy=True in 1.7. Set the value of copy explicitly to avoid this warning\n",
      "  epochs = epochs_mne.get_data()\n",
      "/var/folders/bq/hl737msd54q59fzf7spf0r7h0000gn/T/ipykernel_67876/1845851360.py:59: FutureWarning: The current default of copy=False will change to copy=True in 1.7. Set the value of copy explicitly to avoid this warning\n",
      "  epochs = epochs_filt.get_data()\n"
     ]
    },
    {
     "name": "stdout",
     "output_type": "stream",
     "text": [
      "Analyzing Lyapunov Exponenf of data/input/10s/sub6-day2-mindfulness-epo.fif\n",
      "Reading /Users/jonasmago/PhD_code_data/github/Criticality_PCI_Anesthesia/data/input/10s/sub6-day2-mindfulness-epo.fif ...\n",
      "    Found the data of interest:\n",
      "        t =       0.00 ...    9996.09 ms\n",
      "        0 CTF compensation matrices available\n",
      "Not setting metadata\n",
      "126 matching events found\n",
      "No baseline correction applied\n",
      "0 projection items activated\n",
      "Setting channel interpolation method to {'eeg': 'spline'}.\n",
      "Interpolating bad channels.\n",
      "    Automatic origin fit: head of radius 95.7 mm\n",
      "Computing interpolation matrix from 30 sensor positions\n",
      "Interpolating 2 sensors\n",
      "NOTE: pick_types() is a legacy function. New code should use inst.pick(...).\n"
     ]
    },
    {
     "name": "stderr",
     "output_type": "stream",
     "text": [
      "/var/folders/bq/hl737msd54q59fzf7spf0r7h0000gn/T/ipykernel_67876/1845851360.py:49: FutureWarning: The current default of copy=False will change to copy=True in 1.7. Set the value of copy explicitly to avoid this warning\n",
      "  epochs = epochs_mne.get_data()\n",
      "/var/folders/bq/hl737msd54q59fzf7spf0r7h0000gn/T/ipykernel_67876/1845851360.py:59: FutureWarning: The current default of copy=False will change to copy=True in 1.7. Set the value of copy explicitly to avoid this warning\n",
      "  epochs = epochs_filt.get_data()\n"
     ]
    },
    {
     "name": "stdout",
     "output_type": "stream",
     "text": [
      "Analyzing Lyapunov Exponenf of data/input/10s/sub6-day3-jhana-epo.fif\n",
      "Reading /Users/jonasmago/PhD_code_data/github/Criticality_PCI_Anesthesia/data/input/10s/sub6-day3-jhana-epo.fif ...\n",
      "    Found the data of interest:\n",
      "        t =       0.00 ...    9996.09 ms\n",
      "        0 CTF compensation matrices available\n",
      "Not setting metadata\n",
      "110 matching events found\n",
      "No baseline correction applied\n",
      "0 projection items activated\n",
      "Setting channel interpolation method to {'eeg': 'spline'}.\n",
      "Interpolating bad channels.\n",
      "    Automatic origin fit: head of radius 95.7 mm\n",
      "Computing interpolation matrix from 28 sensor positions\n",
      "Interpolating 4 sensors\n",
      "NOTE: pick_types() is a legacy function. New code should use inst.pick(...).\n"
     ]
    },
    {
     "name": "stderr",
     "output_type": "stream",
     "text": [
      "/var/folders/bq/hl737msd54q59fzf7spf0r7h0000gn/T/ipykernel_67876/1845851360.py:49: FutureWarning: The current default of copy=False will change to copy=True in 1.7. Set the value of copy explicitly to avoid this warning\n",
      "  epochs = epochs_mne.get_data()\n",
      "/var/folders/bq/hl737msd54q59fzf7spf0r7h0000gn/T/ipykernel_67876/1845851360.py:59: FutureWarning: The current default of copy=False will change to copy=True in 1.7. Set the value of copy explicitly to avoid this warning\n",
      "  epochs = epochs_filt.get_data()\n"
     ]
    },
    {
     "name": "stdout",
     "output_type": "stream",
     "text": [
      "Analyzing Lyapunov Exponenf of data/input/10s/sub6-day3-mindfulness-epo.fif\n",
      "Reading /Users/jonasmago/PhD_code_data/github/Criticality_PCI_Anesthesia/data/input/10s/sub6-day3-mindfulness-epo.fif ...\n",
      "    Found the data of interest:\n",
      "        t =       0.00 ...    9996.09 ms\n",
      "        0 CTF compensation matrices available\n",
      "Not setting metadata\n",
      "124 matching events found\n",
      "No baseline correction applied\n",
      "0 projection items activated\n",
      "Setting channel interpolation method to {'eeg': 'spline'}.\n",
      "Interpolating bad channels.\n",
      "    Automatic origin fit: head of radius 95.7 mm\n",
      "Computing interpolation matrix from 30 sensor positions\n",
      "Interpolating 2 sensors\n",
      "NOTE: pick_types() is a legacy function. New code should use inst.pick(...).\n"
     ]
    },
    {
     "name": "stderr",
     "output_type": "stream",
     "text": [
      "/var/folders/bq/hl737msd54q59fzf7spf0r7h0000gn/T/ipykernel_67876/1845851360.py:49: FutureWarning: The current default of copy=False will change to copy=True in 1.7. Set the value of copy explicitly to avoid this warning\n",
      "  epochs = epochs_mne.get_data()\n",
      "/var/folders/bq/hl737msd54q59fzf7spf0r7h0000gn/T/ipykernel_67876/1845851360.py:59: FutureWarning: The current default of copy=False will change to copy=True in 1.7. Set the value of copy explicitly to avoid this warning\n",
      "  epochs = epochs_filt.get_data()\n"
     ]
    },
    {
     "name": "stdout",
     "output_type": "stream",
     "text": [
      "Analyzing Lyapunov Exponenf of data/input/10s/sub6-day4-jhana-epo.fif\n",
      "Reading /Users/jonasmago/PhD_code_data/github/Criticality_PCI_Anesthesia/data/input/10s/sub6-day4-jhana-epo.fif ...\n",
      "    Found the data of interest:\n",
      "        t =       0.00 ...    9996.09 ms\n",
      "        0 CTF compensation matrices available\n",
      "Not setting metadata\n",
      "142 matching events found\n",
      "No baseline correction applied\n",
      "0 projection items activated\n",
      "Setting channel interpolation method to {'eeg': 'spline'}.\n",
      "Interpolating bad channels.\n",
      "    Automatic origin fit: head of radius 95.7 mm\n",
      "Computing interpolation matrix from 28 sensor positions\n",
      "Interpolating 4 sensors\n",
      "NOTE: pick_types() is a legacy function. New code should use inst.pick(...).\n"
     ]
    },
    {
     "name": "stderr",
     "output_type": "stream",
     "text": [
      "/var/folders/bq/hl737msd54q59fzf7spf0r7h0000gn/T/ipykernel_67876/1845851360.py:49: FutureWarning: The current default of copy=False will change to copy=True in 1.7. Set the value of copy explicitly to avoid this warning\n",
      "  epochs = epochs_mne.get_data()\n",
      "/var/folders/bq/hl737msd54q59fzf7spf0r7h0000gn/T/ipykernel_67876/1845851360.py:59: FutureWarning: The current default of copy=False will change to copy=True in 1.7. Set the value of copy explicitly to avoid this warning\n",
      "  epochs = epochs_filt.get_data()\n"
     ]
    },
    {
     "name": "stdout",
     "output_type": "stream",
     "text": [
      "Analyzing Lyapunov Exponenf of data/input/10s/sub6-day4-mindfulness-epo.fif\n",
      "Reading /Users/jonasmago/PhD_code_data/github/Criticality_PCI_Anesthesia/data/input/10s/sub6-day4-mindfulness-epo.fif ...\n",
      "    Found the data of interest:\n",
      "        t =       0.00 ...    9996.09 ms\n",
      "        0 CTF compensation matrices available\n",
      "Not setting metadata\n",
      "148 matching events found\n",
      "No baseline correction applied\n",
      "0 projection items activated\n",
      "Setting channel interpolation method to {'eeg': 'spline'}.\n",
      "Interpolating bad channels.\n",
      "    Automatic origin fit: head of radius 95.7 mm\n",
      "Computing interpolation matrix from 30 sensor positions\n",
      "Interpolating 2 sensors\n",
      "NOTE: pick_types() is a legacy function. New code should use inst.pick(...).\n"
     ]
    },
    {
     "name": "stderr",
     "output_type": "stream",
     "text": [
      "/var/folders/bq/hl737msd54q59fzf7spf0r7h0000gn/T/ipykernel_67876/1845851360.py:49: FutureWarning: The current default of copy=False will change to copy=True in 1.7. Set the value of copy explicitly to avoid this warning\n",
      "  epochs = epochs_mne.get_data()\n",
      "/var/folders/bq/hl737msd54q59fzf7spf0r7h0000gn/T/ipykernel_67876/1845851360.py:59: FutureWarning: The current default of copy=False will change to copy=True in 1.7. Set the value of copy explicitly to avoid this warning\n",
      "  epochs = epochs_filt.get_data()\n"
     ]
    },
    {
     "name": "stdout",
     "output_type": "stream",
     "text": [
      "Analyzing Lyapunov Exponenf of data/input/10s/sub7-day1-jhana-epo.fif\n",
      "Reading /Users/jonasmago/PhD_code_data/github/Criticality_PCI_Anesthesia/data/input/10s/sub7-day1-jhana-epo.fif ...\n",
      "    Found the data of interest:\n",
      "        t =       0.00 ...    9996.09 ms\n",
      "        0 CTF compensation matrices available\n",
      "Not setting metadata\n",
      "127 matching events found\n",
      "No baseline correction applied\n",
      "0 projection items activated\n",
      "Setting channel interpolation method to {'eeg': 'spline'}.\n",
      "Interpolating bad channels.\n",
      "    Automatic origin fit: head of radius 95.7 mm\n",
      "Computing interpolation matrix from 24 sensor positions\n",
      "Interpolating 8 sensors\n",
      "NOTE: pick_types() is a legacy function. New code should use inst.pick(...).\n"
     ]
    },
    {
     "name": "stderr",
     "output_type": "stream",
     "text": [
      "/var/folders/bq/hl737msd54q59fzf7spf0r7h0000gn/T/ipykernel_67876/1845851360.py:49: FutureWarning: The current default of copy=False will change to copy=True in 1.7. Set the value of copy explicitly to avoid this warning\n",
      "  epochs = epochs_mne.get_data()\n",
      "/var/folders/bq/hl737msd54q59fzf7spf0r7h0000gn/T/ipykernel_67876/1845851360.py:59: FutureWarning: The current default of copy=False will change to copy=True in 1.7. Set the value of copy explicitly to avoid this warning\n",
      "  epochs = epochs_filt.get_data()\n"
     ]
    },
    {
     "ename": "KeyboardInterrupt",
     "evalue": "",
     "output_type": "error",
     "traceback": [
      "\u001b[0;31m---------------------------------------------------------------------------\u001b[0m",
      "\u001b[0;31mKeyboardInterrupt\u001b[0m                         Traceback (most recent call last)",
      "Cell \u001b[0;32mIn[20], line 67\u001b[0m\n\u001b[1;32m     60\u001b[0m nr_channels \u001b[38;5;241m=\u001b[39m  epochs\u001b[38;5;241m.\u001b[39mshape[\u001b[38;5;241m1\u001b[39m]\n\u001b[1;32m     62\u001b[0m \u001b[38;5;66;03m#################################\u001b[39;00m\n\u001b[1;32m     63\u001b[0m \u001b[38;5;66;03m#    Calculate LZC             #\u001b[39;00m\n\u001b[1;32m     64\u001b[0m \u001b[38;5;66;03m#################################\u001b[39;00m\n\u001b[1;32m     65\u001b[0m \n\u001b[1;32m     66\u001b[0m \u001b[38;5;66;03m# Run parallel processing for all trials\u001b[39;00m\n\u001b[0;32m---> 67\u001b[0m results \u001b[38;5;241m=\u001b[39m \u001b[43mParallel\u001b[49m\u001b[43m(\u001b[49m\u001b[43mn_jobs\u001b[49m\u001b[38;5;241;43m=\u001b[39;49m\u001b[38;5;241;43m-\u001b[39;49m\u001b[38;5;241;43m1\u001b[39;49m\u001b[43m)\u001b[49m\u001b[43m(\u001b[49m\n\u001b[1;32m     68\u001b[0m \u001b[43m    \u001b[49m\u001b[43mdelayed\u001b[49m\u001b[43m(\u001b[49m\u001b[43mget_pred\u001b[49m\u001b[43m)\u001b[49m\u001b[43m(\u001b[49m\u001b[43mtrial\u001b[49m\u001b[43m,\u001b[49m\u001b[43m \u001b[49m\u001b[43mepochs\u001b[49m\u001b[43m)\u001b[49m\u001b[43m \u001b[49m\u001b[38;5;28;43;01mfor\u001b[39;49;00m\u001b[43m \u001b[49m\u001b[43mtrial\u001b[49m\u001b[43m \u001b[49m\u001b[38;5;129;43;01min\u001b[39;49;00m\u001b[43m \u001b[49m\u001b[38;5;28;43mrange\u001b[39;49m\u001b[43m(\u001b[49m\u001b[43mnr_trials\u001b[49m\u001b[43m)\u001b[49m\n\u001b[1;32m     69\u001b[0m \u001b[43m\u001b[49m\u001b[43m)\u001b[49m\n\u001b[1;32m     71\u001b[0m \u001b[38;5;66;03m# Convert results to NumPy array\u001b[39;00m\n\u001b[1;32m     72\u001b[0m results \u001b[38;5;241m=\u001b[39m np\u001b[38;5;241m.\u001b[39marray(results)\n",
      "File \u001b[0;32m~/PhD_code_data/github/Criticality_PCI_Anesthesia/venv/lib/python3.8/site-packages/joblib/parallel.py:2007\u001b[0m, in \u001b[0;36mParallel.__call__\u001b[0;34m(self, iterable)\u001b[0m\n\u001b[1;32m   2001\u001b[0m \u001b[38;5;66;03m# The first item from the output is blank, but it makes the interpreter\u001b[39;00m\n\u001b[1;32m   2002\u001b[0m \u001b[38;5;66;03m# progress until it enters the Try/Except block of the generator and\u001b[39;00m\n\u001b[1;32m   2003\u001b[0m \u001b[38;5;66;03m# reaches the first `yield` statement. This starts the asynchronous\u001b[39;00m\n\u001b[1;32m   2004\u001b[0m \u001b[38;5;66;03m# dispatch of the tasks to the workers.\u001b[39;00m\n\u001b[1;32m   2005\u001b[0m \u001b[38;5;28mnext\u001b[39m(output)\n\u001b[0;32m-> 2007\u001b[0m \u001b[38;5;28;01mreturn\u001b[39;00m output \u001b[38;5;28;01mif\u001b[39;00m \u001b[38;5;28mself\u001b[39m\u001b[38;5;241m.\u001b[39mreturn_generator \u001b[38;5;28;01melse\u001b[39;00m \u001b[38;5;28;43mlist\u001b[39;49m\u001b[43m(\u001b[49m\u001b[43moutput\u001b[49m\u001b[43m)\u001b[49m\n",
      "File \u001b[0;32m~/PhD_code_data/github/Criticality_PCI_Anesthesia/venv/lib/python3.8/site-packages/joblib/parallel.py:1650\u001b[0m, in \u001b[0;36mParallel._get_outputs\u001b[0;34m(self, iterator, pre_dispatch)\u001b[0m\n\u001b[1;32m   1647\u001b[0m     \u001b[38;5;28;01myield\u001b[39;00m\n\u001b[1;32m   1649\u001b[0m     \u001b[38;5;28;01mwith\u001b[39;00m \u001b[38;5;28mself\u001b[39m\u001b[38;5;241m.\u001b[39m_backend\u001b[38;5;241m.\u001b[39mretrieval_context():\n\u001b[0;32m-> 1650\u001b[0m         \u001b[38;5;28;01myield from\u001b[39;00m \u001b[38;5;28mself\u001b[39m\u001b[38;5;241m.\u001b[39m_retrieve()\n\u001b[1;32m   1652\u001b[0m \u001b[38;5;28;01mexcept\u001b[39;00m \u001b[38;5;167;01mGeneratorExit\u001b[39;00m:\n\u001b[1;32m   1653\u001b[0m     \u001b[38;5;66;03m# The generator has been garbage collected before being fully\u001b[39;00m\n\u001b[1;32m   1654\u001b[0m     \u001b[38;5;66;03m# consumed. This aborts the remaining tasks if possible and warn\u001b[39;00m\n\u001b[1;32m   1655\u001b[0m     \u001b[38;5;66;03m# the user if necessary.\u001b[39;00m\n\u001b[1;32m   1656\u001b[0m     \u001b[38;5;28mself\u001b[39m\u001b[38;5;241m.\u001b[39m_exception \u001b[38;5;241m=\u001b[39m \u001b[38;5;28;01mTrue\u001b[39;00m\n",
      "File \u001b[0;32m~/PhD_code_data/github/Criticality_PCI_Anesthesia/venv/lib/python3.8/site-packages/joblib/parallel.py:1762\u001b[0m, in \u001b[0;36mParallel._retrieve\u001b[0;34m(self)\u001b[0m\n\u001b[1;32m   1757\u001b[0m \u001b[38;5;66;03m# If the next job is not ready for retrieval yet, we just wait for\u001b[39;00m\n\u001b[1;32m   1758\u001b[0m \u001b[38;5;66;03m# async callbacks to progress.\u001b[39;00m\n\u001b[1;32m   1759\u001b[0m \u001b[38;5;28;01mif\u001b[39;00m ((\u001b[38;5;28mlen\u001b[39m(\u001b[38;5;28mself\u001b[39m\u001b[38;5;241m.\u001b[39m_jobs) \u001b[38;5;241m==\u001b[39m \u001b[38;5;241m0\u001b[39m) \u001b[38;5;129;01mor\u001b[39;00m\n\u001b[1;32m   1760\u001b[0m     (\u001b[38;5;28mself\u001b[39m\u001b[38;5;241m.\u001b[39m_jobs[\u001b[38;5;241m0\u001b[39m]\u001b[38;5;241m.\u001b[39mget_status(\n\u001b[1;32m   1761\u001b[0m         timeout\u001b[38;5;241m=\u001b[39m\u001b[38;5;28mself\u001b[39m\u001b[38;5;241m.\u001b[39mtimeout) \u001b[38;5;241m==\u001b[39m TASK_PENDING)):\n\u001b[0;32m-> 1762\u001b[0m     \u001b[43mtime\u001b[49m\u001b[38;5;241;43m.\u001b[39;49m\u001b[43msleep\u001b[49m\u001b[43m(\u001b[49m\u001b[38;5;241;43m0.01\u001b[39;49m\u001b[43m)\u001b[49m\n\u001b[1;32m   1763\u001b[0m     \u001b[38;5;28;01mcontinue\u001b[39;00m\n\u001b[1;32m   1765\u001b[0m \u001b[38;5;66;03m# We need to be careful: the job list can be filling up as\u001b[39;00m\n\u001b[1;32m   1766\u001b[0m \u001b[38;5;66;03m# we empty it and Python list are not thread-safe by\u001b[39;00m\n\u001b[1;32m   1767\u001b[0m \u001b[38;5;66;03m# default hence the use of the lock\u001b[39;00m\n",
      "\u001b[0;31mKeyboardInterrupt\u001b[0m: "
     ]
    }
   ],
   "source": [
    "out_dir = 'data/output/Pred/'\n",
    "in_dir = 'data/input/10s/'\n",
    "\n",
    "\n",
    "lfreq = 1\n",
    "hfreq = 45\n",
    "\n",
    "\n",
    "# output\n",
    "Lyaps_max = []\n",
    "Lyaps_space = []\n",
    "Dims_mean = []\n",
    "Dims_space = []\n",
    "Ent_mean = []\n",
    "Ent_space = []\n",
    "LZC_mean = []\n",
    "LZC_space = []\n",
    "KDF_mean = []\n",
    "KDF_space = []\n",
    "\n",
    "sub_all = []\n",
    "day_all = []   \n",
    "condition_all = []\n",
    "\n",
    "# make output directory\n",
    "if not os.path.exists(out_dir):\n",
    "    os.makedirs(out_dir)\n",
    "\n",
    "paths = glob.glob(in_dir + '*.fif')\n",
    "paths.sort()\n",
    "paths = paths[48:]\n",
    "\n",
    "#loop over all conditions and particiants\n",
    "for i, path in enumerate(paths):\n",
    "    basename = os.path.basename(path)\n",
    "    sub = basename[:4]\n",
    "    day = basename[5:9]\n",
    "    condition = basename[10:-8]\n",
    "    if len(basename)==36:\n",
    "         condition = basename[10:15]+basename[-5:-4]\n",
    "\n",
    "    print(f\"Analyzing Lyapunov Exponenf of {path}\");\n",
    "\n",
    "    #################################\n",
    "    #          LOAD  DATA          #\n",
    "    #################################\n",
    "\n",
    "    epochs_mne = mne.read_epochs(path, preload=True)\n",
    "    epochs_mne.interpolate_bads(reset_bads=True)\n",
    "    epochs_mne.pick_types(eeg=True, meg=False, stim=False, eog=False, ecg=False, emg=False, misc=False, exclude='bads')\n",
    "\n",
    "    epochs = epochs_mne.get_data()\n",
    "    fs = 256 #check this\n",
    "\n",
    "\n",
    "    # prepare data\n",
    "    #epochs_res = epochs_mne.resample(250)\n",
    "    epochs_filt = epochs_mne.filter(lfreq, hfreq, verbose = False)\n",
    "\n",
    "    # if data is too long only use the first 3 min of data\n",
    "    nr_trials = min([len(epochs_filt),80]) #check this\n",
    "    epochs = epochs_filt.get_data()\n",
    "    nr_channels =  epochs.shape[1]\n",
    "\n",
    "    #################################\n",
    "    #    Calculate LZC             #\n",
    "    #################################\n",
    "\n",
    "    # Run parallel processing for all trials\n",
    "    results = Parallel(n_jobs=-1)(\n",
    "        delayed(get_pred)(trial, epochs) for trial in range(nr_trials)\n",
    "    )\n",
    "\n",
    "    # Convert results to NumPy array\n",
    "    results = np.array(results)\n",
    "\n",
    "    # Compute summary statistics\n",
    "    Lyaps_max.append(np.mean(results[:, 0, :], axis=(0, 1)))\n",
    "    Lyaps_space.append(np.mean(results[:, 0, :], axis=0))\n",
    "    Dims_mean.append(np.mean(results[:, 1, :], axis=(0, 1)))\n",
    "    Dims_space.append(np.mean(results[:, 1, :], axis=0))\n",
    "    Ent_mean.append(np.mean(results[:, 2, :], axis=(0, 1)))\n",
    "    Ent_space.append(np.mean(results[:, 2, :], axis=0))\n",
    "    LZC_mean.append(np.mean(results[:, 3, :], axis=(0, 1)))\n",
    "    LZC_space.append(np.mean(results[:, 3, :], axis=0))\n",
    "    KDF_mean.append(np.mean(results[:, 4, :], axis=(0, 1)))\n",
    "    KDF_space.append(np.mean(results[:, 4, :], axis=0))\n",
    "    sub_all.append(sub)\n",
    "    day_all.append(day)\n",
    "    condition_all.append(condition)\n",
    "\n",
    "\n",
    "    # save part\n",
    "    output_df = {'sub':sub_all, 'day': day_all,'condition':condition_all,\n",
    "                'Lyaps_max':Lyaps_max, 'Dims_mean':Dims_mean,\n",
    "                'Ent_mean':Ent_mean, 'LZC_mean':LZC_mean,'KDF_mean':KDF_mean }\n",
    "    output_df = pd.DataFrame(output_df)\n",
    "    output_df.to_csv(f'{out_dir}/Pred_{lfreq}_{hfreq}.csv', index=False, sep=',')\n",
    "\n",
    "    # save space\n",
    "    output_df_space = {'sub':sub_all, 'day': day_all,'condition':condition_all}\n",
    "    output_df = pd.concat((pd.DataFrame(output_df_space), pd.DataFrame(Lyaps_space).reset_index(drop=True)), axis = 1)\n",
    "    output_df.to_csv(f'{out_dir}/Lyaps_space_{lfreq}_{hfreq}.csv', index=False, sep=',')\n",
    "\n",
    "    # save space\n",
    "    output_df_space = {'sub':sub_all, 'day': day_all,'condition':condition_all}\n",
    "    output_df = pd.concat((pd.DataFrame(output_df_space), pd.DataFrame(Dims_space).reset_index(drop=True)), axis = 1)\n",
    "    output_df.to_csv(f'{out_dir}/Dims_space_{lfreq}_{hfreq}.csv', index=False, sep=',')\n",
    "\n",
    "    # save space\n",
    "    output_df_space = {'sub':sub_all, 'day': day_all,'condition':condition_all}\n",
    "    output_df = pd.concat((pd.DataFrame(output_df_space), pd.DataFrame(Ent_space).reset_index(drop=True)), axis = 1)\n",
    "    output_df.to_csv(f'{out_dir}/Ent_space_{lfreq}_{hfreq}.csv', index=False, sep=',')\n",
    "\n",
    "    # save space\n",
    "    output_df_space = {'sub':sub_all, 'day': day_all,'condition':condition_all}\n",
    "    output_df = pd.concat((pd.DataFrame(output_df_space), pd.DataFrame(LZC_space).reset_index(drop=True)), axis = 1)\n",
    "    output_df.to_csv(f'{out_dir}/LZC_space_{lfreq}_{hfreq}.csv', index=False, sep=',')\n",
    "\n",
    "    # save space\n",
    "    output_df_space = {'sub':sub_all, 'day': day_all,'condition':condition_all}\n",
    "    output_df = pd.concat((pd.DataFrame(output_df_space), pd.DataFrame(KDF_space).reset_index(drop=True)), axis = 1)\n",
    "    output_df.to_csv(f'{out_dir}/KDF_space_{lfreq}_{hfreq}.csv', index=False, sep=',')\n"
   ]
  },
  {
   "cell_type": "code",
   "execution_count": null,
   "metadata": {},
   "outputs": [],
   "source": []
  }
 ],
 "metadata": {
  "kernelspec": {
   "display_name": "venv",
   "language": "python",
   "name": "python3"
  },
  "language_info": {
   "codemirror_mode": {
    "name": "ipython",
    "version": 3
   },
   "file_extension": ".py",
   "mimetype": "text/x-python",
   "name": "python",
   "nbconvert_exporter": "python",
   "pygments_lexer": "ipython3",
   "version": "3.8.8"
  }
 },
 "nbformat": 4,
 "nbformat_minor": 2
}

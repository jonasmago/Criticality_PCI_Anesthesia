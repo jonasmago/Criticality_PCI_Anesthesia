{
 "cells": [
  {
   "cell_type": "code",
   "execution_count": 5,
   "id": "ba266160",
   "metadata": {},
   "outputs": [
    {
     "name": "stdout",
     "output_type": "stream",
     "text": [
      "Reading /Users/jonasmago/PhD_code_data/github/eeg_jhana/notebooks/hand_cleaning/ALL/10s/0_01_NA_rposo_03_003_0106_008_0080_034_0102_epo.fif ...\n",
      "    Found the data of interest:\n",
      "        t =       0.00 ...    9996.09 ms\n",
      "        0 CTF compensation matrices available\n",
      "Not setting metadata\n",
      "8 matching events found\n",
      "No baseline correction applied\n",
      "0 projection items activated\n",
      "NOTE: pick_types() is a legacy function. New code should use inst.pick(...).\n",
      "Setting channel interpolation method to {'eeg': 'spline'}.\n",
      "Interpolating bad channels.\n",
      "    Automatic origin fit: head of radius 95.7 mm\n",
      "Computing interpolation matrix from 29 sensor positions\n",
      "Interpolating 3 sensors\n",
      "NOTE: pick_types() is a legacy function. New code should use inst.pick(...).\n",
      "Opening raw data file /Users/jonasmago/PhD_code_data/github/eeg_jhana/notebooks/hand_cleaning/ALL/raw/0_01_NA_rposo_03_003_0106_008_0080_034_0102_raw.fif...\n",
      "    Range : 512 ... 27738 =      2.000 ...   108.352 secs\n",
      "Ready.\n",
      "Reading 0 ... 27226  =      0.000 ...   106.352 secs...\n",
      "Setting channel interpolation method to {'eeg': 'spline'}.\n",
      "Interpolating bad channels.\n",
      "    Automatic origin fit: head of radius 95.7 mm\n",
      "Computing interpolation matrix from 29 sensor positions\n",
      "Interpolating 3 sensors\n",
      "NOTE: pick_types() is a legacy function. New code should use inst.pick(...).\n",
      "NOTE: pick_types() is a legacy function. New code should use inst.pick(...).\n",
      "NOTE: pick_types() is a legacy function. New code should use inst.pick(...).\n"
     ]
    },
    {
     "name": "stderr",
     "output_type": "stream",
     "text": [
      "/Users/jonasmago/PhD_code_data/github/Criticality_PCI_Anesthesia/python_master_function/features_EOC.py:102: FutureWarning: The current default of copy=False will change to copy=True in 1.7. Set the value of copy explicitly to avoid this warning\n",
      "  epochs = mne_epochs.get_data()\n",
      "/Users/jonasmago/PhD_code_data/github/Criticality_PCI_Anesthesia/python_master_function/features_Pred.py:65: FutureWarning: The current default of copy=False will change to copy=True in 1.7. Set the value of copy explicitly to avoid this warning\n",
      "  epochs = epochs_filt.get_data()\n",
      "/Users/jonasmago/PhD_code_data/github/Criticality_PCI_Anesthesia/python_master_function/features_slope.py:24: FutureWarning: The current default of copy=False will change to copy=True in 1.7. Set the value of copy explicitly to avoid this warning\n",
      "  epochs = mne_epochs.get_data()\n",
      "Assuming nested distributions\n"
     ]
    },
    {
     "name": "stdout",
     "output_type": "stream",
     "text": [
      "number of elements: 142\n"
     ]
    },
    {
     "name": "stderr",
     "output_type": "stream",
     "text": [
      "/opt/anaconda3/lib/python3.8/site-packages/powerlaw.py:1615: RuntimeWarning: invalid value encountered in divide\n",
      "  CDF = CDF/norm\n",
      "'nan' in fit cumulative distribution values.\n",
      "Likely underflow or overflow error: the optimal fit for this distribution gives values that are so extreme that we lack the numerical precision to calculate them.\n",
      "Assuming nested distributions\n",
      "/opt/anaconda3/lib/python3.8/site-packages/edgeofpy/avalanche.py:702: RuntimeWarning: divide by zero encountered in divide\n",
      "  br = np.ma.masked_invalid(events[1:] / events[:-1]).mean()\n",
      "/opt/anaconda3/lib/python3.8/site-packages/edgeofpy/avalanche.py:702: RuntimeWarning: invalid value encountered in divide\n",
      "  br = np.ma.masked_invalid(events[1:] / events[:-1]).mean()\n"
     ]
    }
   ],
   "source": [
    "from features_EOC import features_EOC\n",
    "from features_EOS import features_EOS\n",
    "from features_Pred import features_Pred\n",
    "from features_slope import features_slope\n",
    "from features_DFA import features_DFA\n",
    "from features_AVC import features_AVC\n",
    "from features_avc_std_dist import features_avc_std_dist\n",
    "import mne\n",
    "import numpy as np\n",
    "import glob\n",
    "from saving_utils import path_to_names\n",
    "\n",
    "\n",
    "###########\n",
    "### import data\n",
    "###########\n",
    "\n",
    "paths = glob.glob('/Users/jonasmago/PhD_code_data/github/eeg_jhana/notebooks/hand_cleaning/ALL/10s/*.fif')\n",
    "paths.sort()\n",
    "path = paths[40]\n",
    "\n",
    "mne_epochs_raw = mne.read_epochs(path)\n",
    "mne_epochs_32 = mne_epochs_raw.copy()\n",
    "\n",
    "mne_epochs_raw.pick_types(eeg=True)\n",
    "\n",
    "bad_chans = list(mne_epochs_32.info['bads'])\n",
    "mne_epochs_32.interpolate_bads(reset_bads=True)\n",
    "mne_epochs_32.pick_types(eeg=True)\n",
    "all_chans = mne_epochs_32.ch_names\n",
    "good_chans = [ch for ch in all_chans if ch not in bad_chans]\n",
    "\n",
    "channel_indices = {name: idx for idx, name in enumerate(mne_epochs_32.ch_names)}\n",
    "bad_indices = [channel_indices[ch] for ch in bad_chans]\n",
    "good_indices = [channel_indices[ch] for ch in good_chans]\n",
    "\n",
    "\n",
    "path_raw = path.replace('_epo.fif', '_raw.fif').replace('10s', 'raw')\n",
    "\n",
    "raw_raw = mne.io.read_raw_fif(path_raw, preload=True)\n",
    "bad_chans_raw = list(raw_raw.info['bads'])\n",
    "assert bad_chans_raw == bad_chans, 'bad channels do not match'\n",
    "raw_32 = raw_raw.copy()\n",
    "raw_32.interpolate_bads(reset_bads=True)\n",
    "raw_raw.pick_types(eeg=True)\n",
    "raw_32.pick_types(eeg=True)\n",
    "\n",
    "\n",
    "\n",
    "############\n",
    "### Analysis\n",
    "############\n",
    "\n",
    "fbands = [[1,45], [1, 4], [4, 8], [8, 13], [13, 30], [30, 45]]\n",
    "\n",
    "# on EPOCH\n",
    "K_median, K_median_interpolated, Freq, Nopeak, eoc_results, eoc_results_interpolated = features_EOC(mne_epochs_32, k_type='flex', hfrequ=None, max_trials=5, bad_indices=bad_indices, good_indices=good_indices)\n",
    "\n",
    "PCF_mean, OR_mean, eos_results = features_EOS (mne_epochs_32, minfreq=1, maxfreq=10, fs=256, max_trials=5)\n",
    "for fband in fbands:\n",
    "    PCF_mean_interpolated, OR_mean_interpolated, eos_results_interpoalted = features_EOS (mne_epochs_32, minfreq=fband[0], maxfreq=fband[1], fs=256, max_trials=5)\n",
    "\n",
    "Lyaps_max, Dims_mean, Ent_mean, LZC_mean, KDF_mean, pred_results, Lyaps_max_int, Dims_mean_int, Ent_mean_int, LZC_mean_int, KDF_mean_int, pred_results_int  = features_Pred (mne_epochs_32, lfreq=0.5, hfreq=40, fs=256, max_trials=3, bad_indices=bad_indices)\n",
    "\n",
    "slope_id, slope_id_interpoalted, Slope_space_id, Slope_space_id_interpoalted, psds_mean, psds_mean_interpolated, psds, psds_interpoalted, freqs = features_slope (mne_epochs_32, lfreq=0.5, hfreq=40, fs=256, max_trials=3, bad_indices=bad_indices)\n",
    "\n",
    "\n",
    "# on RAW\n",
    "for fband in fbands:\n",
    "    HURST_FH, HURST_DFA, results, HURST_FH_interpoalted, HURST_DFA_interpoalted, results_interpolated = features_DFA(raw_32, lfreq=fband[0], hfreq=fband[1], fs=256, max_s=50, bad_indices=bad_indices)\n",
    "out, avls = features_AVC (raw_32, bin_threshold=0.0005, max_iei=0.2, fs=256, max_s=200, lfreq=0.5, hfreq=40)\n",
    "part_hist_x, part_hist_y, part_hist_x_raw, part_hist_y_raw =  features_avc_std_dist (raw_32, max_s=50, fs=256, lfreq=0.5, hfreq=40)\n"
   ]
  },
  {
   "cell_type": "code",
   "execution_count": 16,
   "id": "8a4d30fb",
   "metadata": {},
   "outputs": [
    {
     "data": {
      "text/plain": [
       "(0.12846904258721797,\n",
       " 3.0114942528735633,\n",
       " 0.12356790834962803,\n",
       " 0.03716024352264125,\n",
       " 1.324681799476467)"
      ]
     },
     "execution_count": 16,
     "metadata": {},
     "output_type": "execute_result"
    }
   ],
   "source": [
    "Lyaps_max, Dims_mean, Ent_mean, LZC_mean, KDF_mean"
   ]
  },
  {
   "cell_type": "code",
   "execution_count": 27,
   "id": "601b5ef9",
   "metadata": {},
   "outputs": [
    {
     "data": {
      "text/plain": [
       "{'mean_iei': [0.31631324404761907],\n",
       " 'tau': [1.6790456853816145],\n",
       " 'tau_dist': ['T'],\n",
       " 'tau_dist_TR': [8.434363225513678],\n",
       " 'alpha': [1.6640447695563505],\n",
       " 'alpha_dist': ['T'],\n",
       " 'alpha_dist_TR': [9.161288264709778],\n",
       " 'third': [1.4830384080077854],\n",
       " 'dcc_cn': [0.5051295811765445],\n",
       " 'avl_br': [0.04047912137325089],\n",
       " 'br': [0.6527861027861028],\n",
       " 'rep_dissimilarity_avg': [0.2263718820861678],\n",
       " 'rep_size': [0.98725529804973],\n",
       " 'fano': [3.051035393190822],\n",
       " 'chi_test': [0.001722909948591798],\n",
       " 'chi_notest': [0.0017229099485917981],\n",
       " 'sig_length': [106.35546875],\n",
       " 'len_avls': [142],\n",
       " 'data_mean': [1.4033033072315858e-05],\n",
       " 'data_std': [2.6361482415751573e-05]}"
      ]
     },
     "execution_count": 27,
     "metadata": {},
     "output_type": "execute_result"
    }
   ],
   "source": [
    "out"
   ]
  },
  {
   "cell_type": "code",
   "execution_count": 20,
   "id": "e574158c",
   "metadata": {},
   "outputs": [
    {
     "data": {
      "text/plain": [
       "3.0114942528735633"
      ]
     },
     "execution_count": 20,
     "metadata": {},
     "output_type": "execute_result"
    }
   ],
   "source": [
    "Dims_mean_int"
   ]
  },
  {
   "cell_type": "code",
   "execution_count": 21,
   "id": "fd1f9326",
   "metadata": {},
   "outputs": [
    {
     "data": {
      "text/plain": [
       "0.12356790834962803"
      ]
     },
     "execution_count": 21,
     "metadata": {},
     "output_type": "execute_result"
    }
   ],
   "source": [
    "Ent_mean_int"
   ]
  },
  {
   "cell_type": "code",
   "execution_count": 22,
   "id": "a0073814",
   "metadata": {},
   "outputs": [
    {
     "data": {
      "text/plain": [
       "0.03716024352264125"
      ]
     },
     "execution_count": 22,
     "metadata": {},
     "output_type": "execute_result"
    }
   ],
   "source": [
    "LZC_mean_int"
   ]
  },
  {
   "cell_type": "code",
   "execution_count": 26,
   "id": "29012011",
   "metadata": {},
   "outputs": [
    {
     "data": {
      "text/plain": [
       "array([-0.13440123, -0.13185031, -0.10740272, -0.11470919, -0.10918178,\n",
       "       -0.19775803, -0.04895576,         nan,  0.04608382, -0.11427639,\n",
       "       -0.26265943,  0.00781533,  0.04353978,  0.09543341, -0.41761753,\n",
       "       -0.09540119, -0.05219371,  0.03755617, -0.07763069, -0.28712662,\n",
       "       -0.09301215, -0.02044054, -0.04561614,         nan, -0.12723368,\n",
       "               nan, -0.0280922 , -0.02124284, -0.05402839, -0.15597118,\n",
       "       -0.09822967, -0.07139648])"
      ]
     },
     "execution_count": 26,
     "metadata": {},
     "output_type": "execute_result"
    }
   ],
   "source": [
    "Slope_space_id"
   ]
  },
  {
   "cell_type": "code",
   "execution_count": null,
   "id": "42adb224",
   "metadata": {},
   "outputs": [],
   "source": []
  }
 ],
 "metadata": {
  "kernelspec": {
   "display_name": "base",
   "language": "python",
   "name": "python3"
  },
  "language_info": {
   "codemirror_mode": {
    "name": "ipython",
    "version": 3
   },
   "file_extension": ".py",
   "mimetype": "text/x-python",
   "name": "python",
   "nbconvert_exporter": "python",
   "pygments_lexer": "ipython3",
   "version": "3.8.8"
  }
 },
 "nbformat": 4,
 "nbformat_minor": 5
}
